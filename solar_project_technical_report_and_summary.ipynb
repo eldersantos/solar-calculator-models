{
 "cells": [
  {
   "cell_type": "markdown",
   "metadata": {},
   "source": [
    "# Solar Output Prediction \n",
    "### Report Writeup + Technical Analysis\n",
    "\n",
    "by Evan Baker"
   ]
  },
  {
   "cell_type": "markdown",
   "metadata": {},
   "source": [
    "## Executive Summary\n",
    "\n",
    "The goal of this project is to accurately predict how much energy solar panels will produce annually.  The ultimate aim is to build a tool that allows prospective solar customers and solar sales teams to better understand the financial outcomes of installing a solar array.  Currently, the National Renewable Energy Laboratory records data from solar installations from across the US, and gives a prediction for the annual energy those panels will create.  My goal is to build a model that more accurately predicts the potential output of an array.\n",
    "\n",
    "The models in this report improved R2 from the NREL baseline of .87 to over .95 using a random forest model.  I've also built an online tool for evaluating annual output using this model, available here: %link%"
   ]
  },
  {
   "cell_type": "markdown",
   "metadata": {},
   "source": [
    "### Data\n",
    "\n",
    "The first step in this project was gathering and cleaning data related to solar installations, and the cost of producing solar energy for these installations.  I've gathered data from two sources, both run by the National Renewable Energy Lab.  The first is the OpenPV data set, which is manually entered data relating to individual photovoltaic solar installations.  This data includes data such as the size of the installation, it's location, how much it cost to build, how much it costs for it to produce energy, which incentive programs were used to pay for its installation, etc.  The second data set relates to local solar irradiance, including average temperature, wind speed, solar iradiance and peak sun angle for 2015.\n",
    "\n",
    "The OpenPV data was simply downloaded in CSV format from the NREL website, located here: https://openpv.nrel.gov/search\n",
    "\n",
    "The OpenPV dataset includes the following values (and more):\n",
    "\n",
    " - **date_installed**: Date installed (completion date or interconnection date)\n",
    " - **incentive_prog_names**: government incentive program that helped fund the solar installation.\n",
    " - **size_kw**: Size/capacity (in kW DC) of solar installation\n",
    " - **zipcode**: zipcode of installation:\n",
    " - **install_type**: category of type of place solar installation is installed.  Residential, commercial, etc.\n",
    " - **cost_per_watt**: cost for every watt of solar energy produced.\n",
    " - **cost**: Total installed cost (in USD, before any applicable incentives)\n",
    " - **tech_1**: type of solar panels installed, technology behind the solar panel\n",
    " - **annual_PV_prod**: how much energy is produced annually in kw\n",
    " - **tilt1**: tilt angle of the solar panel.\n",
    " - **tracking_type**: how solar panel tracks the sun, can either be fixed or tracking on 1 or 2 axes, or a mix.\n",
    " - **azimuth1**: average azimuth (projected angle from north to sun) at solar installation.\n",
    " - **reported_annual_energy_prod**: a self reported amount of watts produced, varies from annual_pv_prod, but this is all self reported data so it's likely just a duplicate column\n",
    " - **tracking**: whether installation has a moving sun-tracking system.\n",
    " - **bipv**: building integrated photovoltaic, basically whether this installation is on the side of a building"
   ]
  },
  {
   "cell_type": "markdown",
   "metadata": {},
   "source": [
    "### Solar Data\n",
    "\n",
    "Gathering solar irradiance data from the NREL's national solar radiance database required two weeks, given the API's 1000 query/day limit, and the 14000 unique zipcodes included in the OpenPV dataset.  In order to gather this data I deployed the following script on an AWS EC2 instance.  When the script had finished, I ran a slightly modifed version to collect any zipcodes that had returned a 429 response too many times.  The data was saved locally on the EC2 instance in a SQLite database.\n",
    "\n"
   ]
  },
  {
   "cell_type": "code",
   "execution_count": null,
   "metadata": {
    "collapsed": true
   },
   "outputs": [],
   "source": [
    "import time\n",
    "from datetime import datetime\n",
    "import random\n",
    "import pandas as pd\n",
    "import numpy as np\n",
    "import sqlite3\n",
    "import requests\n",
    "\n",
    "\"\"\"\n",
    "This script will query the NREL API for a list of zip/lat+lon pairs, find the average values for a bunch\n",
    "of solar related data from that area.  It will return csvs that have saved all of that data.\n",
    "It should be able to be run on AWS on a 24 chronjob, and automatically pick up from the last\n",
    "zipcode that was successfully grabbed.\n",
    "\"\"\"\n",
    "\n",
    "# loading in the csv file that has all the zipcodes with their corresponding lat/lon pairs\n",
    "good_zips = pd.read_csv(\"./good_zips_lat_lon.csv\")\n",
    "\n",
    "# making series of the lats, lons, and zipcodes\n",
    "lats = good_zips[\"LAT\"].values\n",
    "lons = good_zips[\"LNG\"].values\n",
    "zips = good_zips[\"zipcode\"].values\n",
    "\n",
    "# Defining all our API values that we'll use later in the API queries.\n",
    "api_key = 'XcdWax2Nw6JI5oheYhiipXaeo9uiTObT3XJNYFYt'\n",
    "attributes = 'ghi,dhi,dni,wind_speed_10m_nwp,surface_air_temperature_nwp,solar_zenith_angle'\n",
    "year = '2015'\n",
    "leap_year = 'false'\n",
    "interval = '60'\n",
    "utc = 'false'\n",
    "your_name = 'evan+baker'\n",
    "reason_for_use = 'beta+testing'\n",
    "your_affiliation = 'General+Assembly'\n",
    "your_email = 'evancasebaker@gmail.com'\n",
    "mailing_list='true'\n",
    "\n",
    "\n",
    "# Connecting to the database where we'll store failed zipcodes and our last_success zipcode.\n",
    "conn = sqlite3.connect(\"./solar_logs.sqlite\")\n",
    "\n",
    "# This will try to find a csv that holds our last successfully found zipcode, if it doesn't\n",
    "# exist, we'll just set it to 0 and start from the beginning.\n",
    "starting_zipcode = pd.read_sql(\"SELECT * FROM last_success\", con=conn)[\"zipcode\"][0]\n",
    "print \"starting on: \", starting_zipcode\n",
    "\n",
    "# This will set our top level for our high level iterator, based on our last success\n",
    "top_of_loop = starting_zipcode + 2000\n",
    "\n",
    "# Setting up a placeholder variable, we'll iteratively update this, and then at the end write\n",
    "# it to our database so we can load it up the next time this script runs.\n",
    "last_success = pd.read_sql(\"SELECT * FROM last_success\", con=conn)[\"zipcode\"][0]\n",
    "\n",
    "# creating a failed_zips list that we'll later add to our database.\n",
    "failed_zips = []\n",
    "\n",
    "def query_api(fails, last_success):\n",
    "    \"\"\"\n",
    "    This function queries the NREL API, find the average for the current lat lon, year, etc.,\n",
    "    aggregates all the returned data and appends it to a dictionary defined outside the function.\n",
    "\n",
    "    parameters:\n",
    "        fails: defines the number of times the api has returned a 429 response.\n",
    "                Used to stop the code if API quota has been exhausted/API is not working.\n",
    "    \"\"\"\n",
    "    try:\n",
    "        url = 'http://developer.nrel.gov/api/solar/nsrdb_0512_download.csv?wkt=POINT({lon}%20{lat})&names={year}&leap_day={leap}&interval={interval}&utc={utc}&full_name={name}&email={email}&affiliation={affiliation}&mailing_list={mailing_list}&reason={reason}&api_key={api}&attributes={attr}'.format(year=year, lat=lat, lon=lon, leap=leap_year, interval=interval, utc=utc, name=your_name, email=your_email, mailing_list=mailing_list, affiliation=your_affiliation, reason=reason_for_use, api=api_key, attr=attributes)\n",
    "        # Return all but first 2 lines of csv to get data:\n",
    "        info = pd.read_csv(url, nrows=2)\n",
    "        df = pd.read_csv(url, skiprows=2)\n",
    "        # creating a pivot table of our data, so that we get the average values for the whole year.\n",
    "        pivot = df.pivot_table([\"GHI\",\"DHI\",\"DNI\",\"Wind Speed\",\"Temperature\",\"Solar Zenith Angle\"], index=\"Year\")\n",
    "        for c in pivot.columns:\n",
    "            zipcode_values[c].append(pivot[c].values[0])\n",
    "        zipcode_values[\"Zipcode\"].append(zips[bottom:top][i])\n",
    "        print 'going to next zipcode'\n",
    "        wait_time = random.randint(3,6)\n",
    "        time.sleep(wait_time)\n",
    "        # Updating last_success, it should be the top level iteration + lower level iteration.\n",
    "        last_success = iteration + i\n",
    "        # reset our successive_fails variable to 0, because we've had a success and want to stop counting them.\n",
    "        fails = 0\n",
    "    except:\n",
    "        url = 'http://developer.nrel.gov/api/solar/nsrdb_0512_download.csv?wkt=POINT({lon}%20{lat})&names={year}&leap_day={leap}&interval={interval}&utc={utc}&full_name={name}&email={email}&affiliation={affiliation}&mailing_list={mailing_list}&reason={reason}&api_key={api}&attributes={attr}'.format(year=year, lat=lat, lon=lon, leap=leap_year, interval=interval, utc=utc, name=your_name, email=your_email, mailing_list=mailing_list, affiliation=your_affiliation, reason=reason_for_use, api=api_key, attr=attributes)\n",
    "        # Add 1 to our successive_fails variable, which will iterate for every fail on the same zipcode.\n",
    "        fails += 1\n",
    "        resp = requests.get(url)\n",
    "        response_code = resp.status_code\n",
    "        print response_code\n",
    "        if response_code == 429 and fails <= 5:\n",
    "            wait_time = random.randint(6,8)\n",
    "            time.sleep(wait_time)\n",
    "            fails, last_success = query_api(fails, last_success)\n",
    "        else:\n",
    "            print \"zipcode failed, going to next zipcode\"\n",
    "            # add this zipcode to the failed zips list.\n",
    "            failed_zips.append(iteration + i)\n",
    "            wait_time = random.randint(3,6)\n",
    "            time.sleep(wait_time)\n",
    "\n",
    "    # function spits out updated \"successive fails\" number and what the last success was\n",
    "    return fails, last_success\n",
    "\n",
    "# Setting normal iteration size to 500.  this will only change if the starting zip+2000 is greater than the lengeth of the csv we're drawing from.\n",
    "iteration_size = 500\n",
    "\n",
    "# Setting it up so if we're towards the end of the list, it'll just make one final csv.\n",
    "if top_of_loop > len(zips):\n",
    "    top_of_loop = len(zips)\n",
    "    iteration_size = top_of_loop - starting_zipcode\n",
    "\n",
    "# Setting up a higher level loop that will spit out a csv for every x number of zipcodes\n",
    "for iteration in range(starting_zipcode, top_of_loop, iteration_size):\n",
    "\n",
    "    zipcode_values = {\n",
    "        \"Zipcode\": [],\n",
    "        \"DHI\": [],\n",
    "        \"DNI\": [],\n",
    "        \"GHI\": [],\n",
    "        \"Solar Zenith Angle\": [],\n",
    "        \"Temperature\": [],\n",
    "        \"Wind Speed\": []\n",
    "    }\n",
    "\n",
    "    bottom = int(iteration)\n",
    "    top = int(iteration) + iteration_size\n",
    "    # setting our successive_fails variable, used by the query_api function.\n",
    "    successive_fails = 0\n",
    "\n",
    "    for i, (lat, lon) in enumerate(zip(lats[bottom:top], lons[bottom:top])):\n",
    "        print lat, lon, i\n",
    "\n",
    "        # calling our query_api function, which should take in all the current variables\n",
    "        # we have set and append data to the zipcode_values dictionary.\n",
    "        # it should also be able to handle 429 responses.\n",
    "\n",
    "        #if we get 15 successive 429 responses the query function will stop.\n",
    "        if successive_fails <= 15:\n",
    "            successive_fails, last_success = query_api(successive_fails, last_success)\n",
    "            print \"successive fails: \", successive_fails\n",
    "        else:\n",
    "            break\n",
    "\n",
    "    # only export to csv and to the db if there's actually some data.\n",
    "    if len(zipcode_values['Zipcode']) > 0:\n",
    "        zipcode_df = pd.DataFrame(zipcode_values)\n",
    "        # exporting the data as a csv.\n",
    "        zip_filepath = \"./zipcode_data_%s.csv\" % str(bottom)\n",
    "        zipcode_df.to_csv(zip_filepath)\n",
    "        # add this to our database as well.\n",
    "        zipcode_df.to_sql(\"zipcode_data\", con=conn, if_exists='append')\n",
    "        print \"exporting csv for iteration range: %s : %s\" % (bottom, top)\n",
    "\n",
    "# change last_success table in db\n",
    "last_success_df = pd.DataFrame({'zipcode': [last_success]})\n",
    "last_success_df.to_sql(\"last_success\", con=conn, if_exists='replace')\n",
    "\n",
    "# adding the failed zips to the failed_zips table in our db\n",
    "failed_zips_df = pd.DataFrame({'zip_index':failed_zips})\n",
    "failed_zips_df.to_sql(\"failed_zips\", if_exists='append', con=conn)\n",
    "\n",
    "print datetime.now().time()\n"
   ]
  },
  {
   "cell_type": "markdown",
   "metadata": {},
   "source": [
    "The solar irradiance data includes the following values:\n",
    "- **DNI**: the amount of solar radiation received per unit area by a surface that is always held perpendicular (or normal) to the rays that come in a straight line from the direction of the sun at its current position in the sky.\n",
    "- **DHI**: the amount of radiation received per unit area by a surface (not subject to any shade or shadow) that does not arrive on a direct path from the sun, but has been scattered by molecules and particles in the atmosphere and comes equally from all directions.\n",
    "- **GHI**: the total amount of shortwave radiation received from above by a surface horizontal to the ground, encompassing both DNI and DHI.\n",
    "- **Temperature**: Average temperature in C\n",
    "- **Wind Speed**: Average windspeed in miles per hour.\n",
    "- **Solar Zenith Angle**: Average angle from horizon to sun's peak.\n"
   ]
  },
  {
   "cell_type": "markdown",
   "metadata": {},
   "source": [
    "# Data Cleaning\n",
    "\n",
    "Given that the OpenPV dataset is manually entered, getting the most out of it required a lot of data cleaning and imputation.  For more on what processes I used, go to this notebook: **LINK**"
   ]
  },
  {
   "cell_type": "markdown",
   "metadata": {},
   "source": [
    "# Exploratory Analysis"
   ]
  },
  {
   "cell_type": "code",
   "execution_count": 3,
   "metadata": {
    "collapsed": true
   },
   "outputs": [],
   "source": [
    "import matplotlib.pyplot as plt\n",
    "import seaborn as sns\n",
    "%matplotlib inline"
   ]
  },
  {
   "cell_type": "code",
   "execution_count": 1,
   "metadata": {
    "collapsed": true
   },
   "outputs": [],
   "source": [
    "import pandas as pd\n",
    "import numpy as np"
   ]
  },
  {
   "cell_type": "code",
   "execution_count": 2,
   "metadata": {},
   "outputs": [
    {
     "name": "stderr",
     "output_type": "stream",
     "text": [
      "//anaconda/lib/python2.7/site-packages/IPython/core/interactiveshell.py:2717: DtypeWarning: Columns (10,12,13,16,25,26) have mixed types. Specify dtype option on import or set low_memory=False.\n",
      "  interactivity=interactivity, compiler=compiler, result=result)\n"
     ]
    }
   ],
   "source": [
    "# First let's read in the data.\n",
    "\n",
    "# Reading in the data from csvs\n",
    "df_open = pd.read_csv(\"./data/open_pv_clean.csv\")\n",
    "df_zips = pd.read_csv(\"./data/nrel_solar_data.csv\")\n",
    "\n",
    "# merging two datasets on zipcode\n",
    "df = df_open.merge(df_zips, right_on = 'Zipcode', left_on = 'zipcode')\n",
    "\n",
    "# dropping unnecessary rows\n",
    "del(df['city'])\n",
    "del(df['manufacturer'])\n",
    "del(df['inv_man_clean'])\n",
    "del(df['model1_clean'])\n",
    "del(df['sales_tax_cost'])\n",
    "del(df['annual_insolation'])\n",
    "del(df['lbnl_tts'])\n",
    "del(df['county'])\n",
    "del(df['date_installed'])\n",
    "del(df['cost_per_watt'])\n",
    "\n",
    "# Weird extra columns\n",
    "del(df['Unnamed: 0_x'])\n",
    "del(df['Unnamed: 0_y'])\n",
    "\n",
    "# imputing data for tilt and azimuth.  Picking the median to avoid biasing the model.\n",
    "median_tilt = df.tilt1.median()\n",
    "median_azimuth = df.azimuth1.median()\n",
    "\n",
    "df.tilt1.fillna(median_tilt, inplace=True)\n",
    "df.azimuth1.fillna(median_azimuth, inplace=True)"
   ]
  },
  {
   "cell_type": "markdown",
   "metadata": {},
   "source": [
    "It's clear from the below graph that annual energy produced is extremely well correlated with the size of the installation.  This will be by far the most predictive feature in my models."
   ]
  },
  {
   "cell_type": "code",
   "execution_count": 7,
   "metadata": {
    "collapsed": true
   },
   "outputs": [],
   "source": [
    "df = df.dropna()"
   ]
  },
  {
   "cell_type": "code",
   "execution_count": 14,
   "metadata": {},
   "outputs": [
    {
     "data": {
      "text/plain": [
       "<matplotlib.axes._subplots.AxesSubplot at 0x114f44c50>"
      ]
     },
     "execution_count": 14,
     "metadata": {},
     "output_type": "execute_result"
    },
    {
     "data": {
      "image/png": "[encoded data removed]",
      "text/plain": [
       "<matplotlib.figure.Figure at 0x1124fa4d0>"
      ]
     },
     "metadata": {},
     "output_type": "display_data"
    }
   ],
   "source": [
    "# Let's start out by looking at the distribution of our target variable (reported annual energy produced, \n",
    "# which will give us a better idea of what type of models will work well.\n",
    "\n",
    "\n",
    "# It's clear that this skews really positive, and is clearly not normally distributed.\n",
    "plt.figure(figsize=((7,4)))\n",
    "sns.distplot(df.reported_annual_energy_prod)"
   ]
  },
  {
   "cell_type": "code",
   "execution_count": 13,
   "metadata": {},
   "outputs": [
    {
     "data": {
      "text/plain": [
       "<matplotlib.axes._subplots.AxesSubplot at 0x114abbc50>"
      ]
     },
     "execution_count": 13,
     "metadata": {},
     "output_type": "execute_result"
    },
    {
     "data": {
      "image/png": "[encoded data removed]",
      "text/plain": [
       "<matplotlib.figure.Figure at 0x117b2cbd0>"
      ]
     },
     "metadata": {},
     "output_type": "display_data"
    }
   ],
   "source": [
    "# We may seeing the skew from the utility scale installations, let's take those out and look at this distribution.\n",
    "\n",
    "# Still skews really high when we only look at residential.\n",
    "plt.figure(figsize=((7,4)))\n",
    "sns.distplot(df.loc[df['install_type'] == 'residential'].reported_annual_energy_prod)"
   ]
  },
  {
   "cell_type": "code",
   "execution_count": 22,
   "metadata": {},
   "outputs": [
    {
     "data": {
      "text/plain": [
       "<matplotlib.axes._subplots.AxesSubplot at 0x1180e8f90>"
      ]
     },
     "execution_count": 22,
     "metadata": {},
     "output_type": "execute_result"
    },
    {
     "data": {
      "image/png": "[encoded data removed]",
      "text/plain": [
       "<matplotlib.figure.Figure at 0x112227e10>"
      ]
     },
     "metadata": {},
     "output_type": "display_data"
    }
   ],
   "source": [
    "# let's just look at the lower values of annual energy output.\n",
    "\n",
    "mask = df['reported_annual_energy_prod'] <= 60000\n",
    "plt.figure(figsize=((13,3)))\n",
    "sns.distplot(df[mask].reported_annual_energy_prod)\n",
    "\n",
    "# We can see the skew a little more clearly when we limit the energy production to below 60000 kilowatt hours annually.\n",
    "\n",
    "# Given this distribution, we may want to do a log transformation of the target, or use a generalized linear model\n",
    "# like a poisson regression."
   ]
  },
  {
   "cell_type": "code",
   "execution_count": 131,
   "metadata": {},
   "outputs": [
    {
     "data": {
      "text/plain": [
       "<matplotlib.text.Text at 0x11992a690>"
      ]
     },
     "execution_count": 131,
     "metadata": {},
     "output_type": "execute_result"
    },
    {
     "data": {
      "image/png": "[encoded data removed]",
      "text/plain": [
       "<matplotlib.figure.Figure at 0x1194d0990>"
      ]
     },
     "metadata": {},
     "output_type": "display_data"
    }
   ],
   "source": [
    "plt.figure(figsize=((10,7)))\n",
    "plt.scatter(df.size_kw, df.reported_annual_energy_prod)\n",
    "plt.xlim(-100,6500)\n",
    "plt.ylim(-500000,.9*10**7)\n",
    "plt.xlabel(\"Kilowatt Size Capacity\")\n",
    "plt.ylabel(\"Annual kWh Energy Produced\")\n",
    "plt.title(\"Solar Installations: Size and Annual Energy Produced\")"
   ]
  },
  {
   "cell_type": "markdown",
   "metadata": {},
   "source": [
    "It's intersting to compare the NREL 'annual PV prod' and the reported values, given that this is the NREL prediction compared to the actual annual energy produced.  This is where I'm trying to improve in my own modeling."
   ]
  },
  {
   "cell_type": "code",
   "execution_count": 133,
   "metadata": {
    "scrolled": false
   },
   "outputs": [
    {
     "data": {
      "text/plain": [
       "<matplotlib.text.Text at 0x119a79290>"
      ]
     },
     "execution_count": 133,
     "metadata": {},
     "output_type": "execute_result"
    },
    {
     "data": {
      "image/png": "[encoded data removed]",
      "text/plain": [
       "<matplotlib.figure.Figure at 0x110f4ec50>"
      ]
     },
     "metadata": {},
     "output_type": "display_data"
    }
   ],
   "source": [
    "# masking cases where reported and predicted are the same, because in data cleaning I imputed some missing values\n",
    "# for the NREL predictions using reported data.\n",
    "mask = df['reported_annual_energy_prod'] != df['annual_PV_prod']\n",
    "\n",
    "plt.figure(figsize=((10,7)))\n",
    "plt.scatter(df.loc[mask,'reported_annual_energy_prod'], df.loc[mask,'annual_PV_prod'], alpha=0.6)\n",
    "plt.xlim(-100000,6000000)\n",
    "plt.ylim(-100000,6000000)\n",
    "plt.ylabel(\"NREL Predicted Annual kWh Energy Produced\")\n",
    "plt.xlabel(\"Reported Annual kWh Energy Produced\")\n",
    "plt.title(\"NREL Actual v. Reported Annual kWh Energy Produced\")"
   ]
  },
  {
   "cell_type": "markdown",
   "metadata": {},
   "source": [
    "### Cost per Watt per installation, based on technology type.\n",
    "\n",
    "I used plotly to make some interesting views of nationwide distribution of solar installations.  Here we look at how much it costs to produce energy for different technology types.  I was curious to know whether different technologies would have an effect on how much energy a solar array produces, as well as how production may vary by region.\n",
    "\n",
    "**Plot**: https://plot.ly/~ebaker12/28/cost-per-watt-per-installation-by-technology-click-legend-to-toggle-traces/"
   ]
  },
  {
   "cell_type": "code",
   "execution_count": 134,
   "metadata": {
    "collapsed": true
   },
   "outputs": [],
   "source": [
    "# Code for the above plot is below"
   ]
  },
  {
   "cell_type": "code",
   "execution_count": null,
   "metadata": {
    "collapsed": true
   },
   "outputs": [],
   "source": [
    "# sampling the larger dataset so that plot can render.\n",
    "df_small = df.sample(10000)\n",
    "\n",
    "# reading in a csv of zipcode/lat/lon data, because lat/lon is required for geographic plotting in plotly.\n",
    "lat_lon = pd.read_csv(\"./free-zipcode-database-Primary.csv\")\n",
    "\n",
    "# merging in lat lon data\n",
    "df_small = df_small.merge(lat_lon, left_on=\"zipcode\", right_on=\"Zipcode\")\n",
    "\n",
    "df_small.tech_1.unique().tolist()\n",
    "\n",
    "tech_types = df.tech_1.unique().tolist()\n",
    "\n",
    "colors = [\"white\", \"rgb(0,116,217)\",\"rgb(255,65,54)\",\"rgb(133,20,75)\",\"rgb(255,133,27)\",\n",
    "         'green', 'yellow', 'pink', 'black', 'lightgrey', 'teal', 'maroon']\n",
    "categories = []\n",
    "scale = 200\n",
    "\n",
    "for i in range(len(tech_types)):\n",
    "    df_sub = df_small.loc[df_small['tech_1'] == tech_types[i], :]\n",
    "    cat = dict(\n",
    "        type = 'scattergeo',\n",
    "        locationmode = 'USA-states',\n",
    "        lat = df_sub['Lat'],\n",
    "        lon = df_sub['Long'],\n",
    "        text = df_sub['cost_per_watt'],\n",
    "        marker = dict(\n",
    "            size = (1/df_sub['cost_per_watt']**2) * scale,\n",
    "            color = colors[i],\n",
    "            line = dict(width=0.5, color='rgb(40,40,40)'),\n",
    "            sizemode = 'area'\n",
    "        ),\n",
    "        name = str(tech_types[i]))\n",
    "    categories.append(cat)\n",
    "\n",
    "layout = dict(\n",
    "        title = 'Cost Per Watt per Installation By Technology<br>(Click legend to toggle traces)',\n",
    "        showlegend = True,\n",
    "        geo = dict(\n",
    "            scope='usa',\n",
    "            projection=dict( type='albers usa' ),\n",
    "            showland = True,\n",
    "            landcolor = 'rgb(217, 217, 217)',\n",
    "            subunitwidth=1,\n",
    "            countrywidth=1,\n",
    "            subunitcolor=\"rgb(255, 255, 255)\",\n",
    "            countrycolor=\"rgb(255, 255, 255)\"\n",
    "        ),\n",
    "    )\n",
    "\n",
    "fig = dict( data=categories, layout=layout )\n",
    "py.iplot(fig, validate=False, filename='installation_cost_per_watt_by_tech' )"
   ]
  },
  {
   "cell_type": "markdown",
   "metadata": {},
   "source": [
    "There's a lot of interesting takeaways from looking at the data this way.\n",
    "\n",
    "1.  Installations are highly concentrated in California and New England.  This clear geographical division indicates that there are localized factorized that play into the decision to build solar, such as local incentive programs, taxes and rebates.  Those will be important to take into account when predicting cost per watt later on.\n",
    "2.  There's no clear relationship between technology type and cost per watt, indicating that there may not be clear standouts in terms of the productivity of different solar technologies.\n",
    "3.  It looks as if there's cheaper energy production in southern than northern california, indicating that irradiance is likely a factor in determining cost of production."
   ]
  },
  {
   "cell_type": "markdown",
   "metadata": {},
   "source": [
    "## Correlations between Irradiance Data and Output Efficiency"
   ]
  },
  {
   "cell_type": "markdown",
   "metadata": {},
   "source": [
    "Looking at the correlations of irradiance data with efficiency shows a clear trend that more irradiance and heat correlates with higher efficiency.  It's also noteworthy that there's a lot of correlation between these features, which means we'll want to only include a few to avoid multicolinearity in our modelling."
   ]
  },
  {
   "cell_type": "code",
   "execution_count": 139,
   "metadata": {
    "collapsed": true
   },
   "outputs": [],
   "source": [
    "def correlation_heat_map(df, title, size):\n",
    "    \"\"\"DOCSTRING\n",
    "    This function plots a correlation heatmap for a dataframe, masking duplicate values.\n",
    "    \"\"\"\n",
    "    corrs = df.corr()\n",
    "    \n",
    "    # set figure size\n",
    "    fig, ax = plt.subplots(figsize = size)\n",
    "    \n",
    "    # generate a mask for the upper triagle \n",
    "    mask = np.zeros_like(corrs, dtype=np.bool)\n",
    "    mask[np.triu_indices_from(mask)] = True\n",
    "    \n",
    "    #plot heatmap\n",
    "    ax = sns.heatmap(corrs, mask=mask, annot = True, cbar=False)\n",
    "    \n",
    "    #resize labels\n",
    "    ax.set_xticklabels(ax.xaxis.get_ticklabels(), fontsize=12, rotation=30)\n",
    "    ax.set_yticklabels(ax.yaxis.get_ticklabels(), fontsize=12, rotation=0)\n",
    "    ax.set_title(title, fontsize=14)\n",
    "    \n",
    "    plt.show()"
   ]
  },
  {
   "cell_type": "code",
   "execution_count": 140,
   "metadata": {},
   "outputs": [
    {
     "data": {
      "image/png": "[encoded data removed]",
      "text/plain": [
       "<matplotlib.figure.Figure at 0x1190b5e90>"
      ]
     },
     "metadata": {},
     "output_type": "display_data"
    }
   ],
   "source": [
    "# looking at the correlation with a new \"efficiency\" column, because I want to control for the size of the installation.\n",
    "df['efficiency'] = df['reported_annual_energy_prod'] / df['size_kw']\n",
    "\n",
    "correlation_heat_map(df[['efficiency', \"DNI\", \"DHI\", \"GHI\", \"Temperature\", 'Solar_Zenith_Angle', 'Wind_Speed']],\n",
    "                     \"Correlations with Efficiency (Output/Size)\", (12,8.5))\n"
   ]
  },
  {
   "cell_type": "markdown",
   "metadata": {},
   "source": [
    "# Outliers\n",
    "\n",
    "There are some values for reported annual energy that are way too high, and I want to remove those from the data to improve predictive accuracy."
   ]
  },
  {
   "cell_type": "code",
   "execution_count": 252,
   "metadata": {},
   "outputs": [
    {
     "data": {
      "text/plain": [
       "<matplotlib.collections.PathCollection at 0x2fdfaac10>"
      ]
     },
     "execution_count": 252,
     "metadata": {},
     "output_type": "execute_result"
    },
    {
     "data": {
      "image/png": "[encoded data removed]",
      "text/plain": [
       "<matplotlib.figure.Figure at 0x2fdfb8f50>"
      ]
     },
     "metadata": {},
     "output_type": "display_data"
    }
   ],
   "source": [
    "plt.scatter(nrel_y_pred, nrel_y_true)"
   ]
  },
  {
   "cell_type": "code",
   "execution_count": 263,
   "metadata": {
    "collapsed": true
   },
   "outputs": [],
   "source": [
    "# Given how connected size and annual energy production is, I'm going to remove any data from the data set where\n",
    "# efficiency is more than 6 standard deviations from the mean.  Picking a number so high just to be cautious.\n",
    "\n",
    "# It looks like there must be some installations where efficiency is MUCH higher or lower than the rest.\n",
    "df['efficiency'] = df['reported_annual_energy_prod'] / df['size_kw']\n",
    "\n",
    "efficiency_std = df.efficiency.std()\n",
    "efficiency_mean = df.efficiency.mean()\n",
    "\n",
    "efficiency_mask = np.abs((efficiency_mean - df['efficiency'])/efficiency_std) < 6\n",
    "\n",
    "df = df.loc[efficiency_mask, :]"
   ]
  },
  {
   "cell_type": "markdown",
   "metadata": {},
   "source": [
    "# Modeling\n",
    "\n",
    "My final models include a simple OLS regression, an elastic net regression, a random forest regression, and a simple feed forward neural network.  Given how linearly related size and annual energy output is, a linear model like elastic net seems like an obvious choice.  I was quickly and easily able to implement this model, and it beat out the NREL predictions.  It also has very intuitive results.  I was able to improve on my R2 score from the elastic net model using a random forest model, however implementation and parameter tuning takes much longer.  The elastic net took around 30 minutes to find the optimal parameters, whereas the random forest took around 5 hours.  Tuning the neural network is not as easily done with a grid search, so it's not as trivial to say how long parameter tuning takes, but also on the order of hours as opposed to minutes.  These results are obviously not easily interpretable either.\n",
    "\n",
    "Given that random forest model and the neural network model are non-parametric, they may be able to handle predictions better because the target variable, annual energy output, is not normally distributed.  There may also be non-linear effects of variables like optimal tilt difference and output.  There may also be latent combinations of variables that effect output, which random forest could pick up on but which will not be accounted for in a simpe linear model. That could include things like technology type and irradiance.  Certain technologies may do better with different levels of irradiance, something that the linear models would not be able do anything with.\n",
    "\n",
    "### Features\n",
    "\n",
    "Based on my exploratory analysis, I settled on the following features for my model:\n",
    "- Kilowatt Size/Capacity \n",
    "- Azimuth\n",
    "- Tilt\n",
    "- Technology type\n",
    "- Tracking type\n",
    "- Diffuse Horizontal Irradiance (DHI)\n",
    "- Direct Normal Irradiance (DNI)\n",
    "- Wind Speed\n",
    "\n",
    "These features are strong predictors of annual output, and are easily obtained for use in a production environment model.\n",
    "\n"
   ]
  },
  {
   "cell_type": "code",
   "execution_count": 1,
   "metadata": {
    "collapsed": true
   },
   "outputs": [],
   "source": [
    "from sklearn.linear_model import Lasso, Ridge, ElasticNet\n",
    "from sklearn.ensemble import RandomForestRegressor\n",
    "from sklearn.model_selection import GridSearchCV, train_test_split\n",
    "from sklearn.preprocessing import StandardScaler\n",
    "\n",
    "import patsy"
   ]
  },
  {
   "cell_type": "markdown",
   "metadata": {},
   "source": [
    "# Feature Engineering: Adding Difference From Optimal Tilt\n",
    "\n",
    "Optimal tilt during the winter is about latitude + 15, and during the winter it's about latitude - 15, so we can approximate optimal tilt using latitude.  To get the amount that the tilt of a solar panel is off from the optimal, we take the absolute value of the difference between the tilt and its latitude."
   ]
  },
  {
   "cell_type": "code",
   "execution_count": 4,
   "metadata": {
    "collapsed": true
   },
   "outputs": [],
   "source": [
    "# rading in a csv that has lat/lon pairs for zipcodes.\n",
    "zips = pd.read_csv(\"./free-zipcode-database-Primary.csv\")\n",
    "\n",
    "# joining latitude with main dataframe.\n",
    "df = df.merge(zips[['Zipcode', 'Lat']], on=\"Zipcode\")\n",
    "\n",
    "# Calculating optimal tilt difference as absolute value of difference between the tilt and latitude.\n",
    "df['optimal_tilt_diff'] = np.abs(df['tilt1'] - df['Lat'])"
   ]
  },
  {
   "cell_type": "markdown",
   "metadata": {},
   "source": [
    "### Building Design Matrices + train/test split"
   ]
  },
  {
   "cell_type": "markdown",
   "metadata": {},
   "source": [
    "I used patsy to build my design matrices.  Patsy automatically one hot encodes categorical features like technology and tracking type, and splits our data into X and y dataframes.\n",
    "\n",
    "In all my models, I'm using a random state of 25 when splitting data into training and testing sets, so that I can completely objectively score each model against one another after training"
   ]
  },
  {
   "cell_type": "code",
   "execution_count": 5,
   "metadata": {},
   "outputs": [
    {
     "name": "stdout",
     "output_type": "stream",
     "text": [
      "splitting into X and y design matrices\n",
      "splitting into train and test\n"
     ]
    }
   ],
   "source": [
    "formula = \"\"\"\\\n",
    "reported_annual_energy_prod ~ size_kw + azimuth1 + optimal_tilt_diff + tech_1 + DHI + DNI + Wind_Speed + tracking_type\"\"\"\n",
    "\n",
    "print 'splitting into X and y design matrices'\n",
    "y, X = patsy.dmatrices(formula, df, return_type='dataframe')\n",
    "\n",
    "scaler = StandardScaler()\n",
    "\n",
    "X_scaled = pd.DataFrame(scaler.fit_transform(X))\n",
    "\n",
    "# not using this, just doing a built in evaluation split.\n",
    "print 'splitting into train and test'\n",
    "\n",
    "X_train, X_test, y_train, y_test = train_test_split(X_scaled, y, train_size=.75, random_state=25)"
   ]
  },
  {
   "cell_type": "markdown",
   "metadata": {},
   "source": [
    "## Calculating Baseline R2\n",
    "\n",
    "We'll use NREL's annual energy output compared to reported to calculate a baseline r2 score."
   ]
  },
  {
   "cell_type": "code",
   "execution_count": null,
   "metadata": {
    "collapsed": true
   },
   "outputs": [],
   "source": [
    "from sklearn.metrics import r2_score"
   ]
  },
  {
   "cell_type": "code",
   "execution_count": 26,
   "metadata": {
    "collapsed": true
   },
   "outputs": [],
   "source": [
    "X_test_index = X_test.index.values.tolist()"
   ]
  },
  {
   "cell_type": "code",
   "execution_count": 27,
   "metadata": {
    "collapsed": true
   },
   "outputs": [],
   "source": [
    "# getting nrel reported and predicted annual pv produced\n",
    "\n",
    "nrel_y_true = [val[0] for val in y_test.copy().values]\n",
    "nrel_y_pred = df.ix[X_test_index, 'annual_PV_prod'].values.tolist()"
   ]
  },
  {
   "cell_type": "markdown",
   "metadata": {},
   "source": [
    "### Baseline Score"
   ]
  },
  {
   "cell_type": "code",
   "execution_count": 69,
   "metadata": {
    "collapsed": true
   },
   "outputs": [],
   "source": [
    "from sklearn.metrics import r2_score"
   ]
  },
  {
   "cell_type": "code",
   "execution_count": 70,
   "metadata": {},
   "outputs": [
    {
     "data": {
      "text/plain": [
       "0.91504295425123838"
      ]
     },
     "execution_count": 70,
     "metadata": {},
     "output_type": "execute_result"
    }
   ],
   "source": [
    "r2_score(nrel_y_true, nrel_y_pred)"
   ]
  },
  {
   "cell_type": "code",
   "execution_count": 71,
   "metadata": {},
   "outputs": [
    {
     "data": {
      "text/plain": [
       "4701.3345001996277"
      ]
     },
     "execution_count": 71,
     "metadata": {},
     "output_type": "execute_result"
    }
   ],
   "source": [
    "mse_nrel = mean_squared_error(nrel_y_true, nrel_y_pred)\n",
    "\n",
    "# Root mean squared error dollars\n",
    "mse_nrel ** 0.5 * .1024"
   ]
  },
  {
   "cell_type": "code",
   "execution_count": 72,
   "metadata": {},
   "outputs": [
    {
     "data": {
      "text/plain": [
       "61.262380031999946"
      ]
     },
     "execution_count": 72,
     "metadata": {},
     "output_type": "execute_result"
    }
   ],
   "source": [
    "# Calculating median dollars estimate is off in annual returns on solar energy generated.\n",
    "\n",
    "abs_residuals = np.abs(np.array(nrel_y_true) - np.array(nrel_y_pred))\n",
    "\n",
    "# avg us rate per kilowatt hour is $.1024\n",
    "residuals_dollars = abs_residuals * .1024\n",
    "\n",
    "np.median(residuals_dollars)"
   ]
  },
  {
   "cell_type": "markdown",
   "metadata": {},
   "source": [
    "## Training a Linear Regression with size_kw alone\n",
    "\n",
    "Given the importance of size, let's see what kind of score we can get by just doing a linear regression with size."
   ]
  },
  {
   "cell_type": "code",
   "execution_count": 6,
   "metadata": {
    "collapsed": true
   },
   "outputs": [],
   "source": [
    "from sklearn.linear_model import LinearRegression"
   ]
  },
  {
   "cell_type": "code",
   "execution_count": 7,
   "metadata": {
    "collapsed": true
   },
   "outputs": [],
   "source": [
    "lin_reg = LinearRegression()"
   ]
  },
  {
   "cell_type": "code",
   "execution_count": 8,
   "metadata": {},
   "outputs": [
    {
     "data": {
      "text/plain": [
       "15"
      ]
     },
     "execution_count": 8,
     "metadata": {},
     "output_type": "execute_result"
    }
   ],
   "source": [
    "size_kw_index = None\n",
    "\n",
    "for i, c in enumerate(X.columns):\n",
    "    if c == \"size_kw\":\n",
    "        size_kw_index = i\n",
    "\n",
    "size_kw_index"
   ]
  },
  {
   "cell_type": "code",
   "execution_count": 9,
   "metadata": {},
   "outputs": [
    {
     "name": "stderr",
     "output_type": "stream",
     "text": [
      "//anaconda/lib/python2.7/site-packages/scipy/linalg/basic.py:1018: RuntimeWarning: internal gelsd driver lwork query error, required iwork dimension not returned. This is likely the result of LAPACK bug 0038, fixed in LAPACK 3.2.2 (released July 21, 2010). Falling back to 'gelss' driver.\n",
      "  warnings.warn(mesg, RuntimeWarning)\n"
     ]
    },
    {
     "data": {
      "text/plain": [
       "LinearRegression(copy_X=True, fit_intercept=True, n_jobs=1, normalize=False)"
      ]
     },
     "execution_count": 9,
     "metadata": {},
     "output_type": "execute_result"
    }
   ],
   "source": [
    "# Getting training data into correct shape to fit the model.\n",
    "size_kw_train = np.array(X_train.loc[:, size_kw_index].values).reshape((len(X_train),1))\n",
    "\n",
    "lin_reg.fit(size_kw_train, np.array(y_train).ravel())"
   ]
  },
  {
   "cell_type": "code",
   "execution_count": 10,
   "metadata": {},
   "outputs": [
    {
     "data": {
      "text/plain": [
       "0.92907346868194052"
      ]
     },
     "execution_count": 10,
     "metadata": {},
     "output_type": "execute_result"
    }
   ],
   "source": [
    "# Getting testing data into correct shape to fit the model.\n",
    "size_kw_test = np.array(X_test.loc[:, size_kw_index].values).reshape((len(X_test),1))\n",
    "lin_reg.score(size_kw_test, np.array(y_test).ravel())"
   ]
  },
  {
   "cell_type": "code",
   "execution_count": 12,
   "metadata": {
    "collapsed": true
   },
   "outputs": [],
   "source": [
    "from sklearn.metrics import mean_squared_error"
   ]
  },
  {
   "cell_type": "markdown",
   "metadata": {},
   "source": [
    "### Putting this error in $$$\n",
    "\n",
    "Ultimately, we want to understand how accurate these predictions are in terms of the return one would receive on the energy generated by their solar panel installation.  At an annual average return of 10.24 centers per kilowatt hour, we can calculate the root mean squared error in terms of dollars, and also the median of the absolute error in terms of dollars.  The error is very positively skewed, due to the inclusion of large, utility scale solar installations. Given this skew, the median is going to be a better representation of the amount of error we'd see in predictions for smaller, residential solar customers."
   ]
  },
  {
   "cell_type": "code",
   "execution_count": 13,
   "metadata": {},
   "outputs": [
    {
     "data": {
      "text/plain": [
       "4295.6195659638724"
      ]
     },
     "execution_count": 13,
     "metadata": {},
     "output_type": "execute_result"
    }
   ],
   "source": [
    "# What does this improvement mean in dollars annually?\n",
    "\n",
    "lr_pred = lin_reg.predict(size_kw_test)\n",
    "mse_lr = mean_squared_error(np.array(y_test), lr_pred)\n",
    "\n",
    "# Root mean squared error dollars\n",
    "mse_lr ** 0.5 * .1024"
   ]
  },
  {
   "cell_type": "code",
   "execution_count": 21,
   "metadata": {},
   "outputs": [
    {
     "data": {
      "text/plain": [
       "150.06259129211793"
      ]
     },
     "execution_count": 21,
     "metadata": {},
     "output_type": "execute_result"
    }
   ],
   "source": [
    "lr_residuals_abs = np.abs(np.array(y_test.values).ravel() - lr_pred)\n",
    "# median absolute value error in dollars\n",
    "\n",
    "np.median(lr_residuals_abs * .1024)"
   ]
  },
  {
   "cell_type": "markdown",
   "metadata": {},
   "source": [
    "## Training Elastic Net Model\n",
    "\n",
    "The linear regression model performed better than the baseline model, but given that this is solar energy, and that we do see pretty strong correlations between irradiance factors and efficiency, it seems likely that building a more complex model that includes these other factors could improve the accuracy of our predictions."
   ]
  },
  {
   "cell_type": "code",
   "execution_count": 99,
   "metadata": {
    "collapsed": true
   },
   "outputs": [],
   "source": [
    "# creating a gridsearch to find optimal elastic net parameters.\n",
    "\n",
    "params = {\n",
    "    'alpha': np.linspace(0.08,.15,5),\n",
    "}\n",
    "en = ElasticNet(.95)\n",
    "gs_en = GridSearchCV(en, params, cv=8, verbose=1)"
   ]
  },
  {
   "cell_type": "code",
   "execution_count": 100,
   "metadata": {},
   "outputs": [
    {
     "name": "stdout",
     "output_type": "stream",
     "text": [
      "Fitting 8 folds for each of 5 candidates, totalling 40 fits\n"
     ]
    },
    {
     "name": "stderr",
     "output_type": "stream",
     "text": [
      "[Parallel(n_jobs=1)]: Done  40 out of  40 | elapsed:   35.6s finished\n"
     ]
    },
    {
     "data": {
      "text/plain": [
       "GridSearchCV(cv=8, error_score='raise',\n",
       "       estimator=ElasticNet(alpha=0.95, copy_X=True, fit_intercept=True, l1_ratio=0.5,\n",
       "      max_iter=1000, normalize=False, positive=False, precompute=False,\n",
       "      random_state=None, selection='cyclic', tol=0.0001, warm_start=False),\n",
       "       fit_params={}, iid=True, n_jobs=1,\n",
       "       param_grid={'alpha': array([ 0.08  ,  0.0975,  0.115 ,  0.1325,  0.15  ])},\n",
       "       pre_dispatch='2*n_jobs', refit=True, return_train_score=True,\n",
       "       scoring=None, verbose=1)"
      ]
     },
     "execution_count": 100,
     "metadata": {},
     "output_type": "execute_result"
    }
   ],
   "source": [
    "gs_en.fit(X_train, y_train)"
   ]
  },
  {
   "cell_type": "code",
   "execution_count": 102,
   "metadata": {},
   "outputs": [
    {
     "data": {
      "text/plain": [
       "0.92139789975183162"
      ]
     },
     "execution_count": 102,
     "metadata": {},
     "output_type": "execute_result"
    }
   ],
   "source": [
    "gs_en.best_score_"
   ]
  },
  {
   "cell_type": "code",
   "execution_count": 104,
   "metadata": {},
   "outputs": [
    {
     "data": {
      "text/plain": [
       "{'alpha': 0.080000000000000002}"
      ]
     },
     "execution_count": 104,
     "metadata": {},
     "output_type": "execute_result"
    }
   ],
   "source": [
    "gs_en.best_params_"
   ]
  },
  {
   "cell_type": "code",
   "execution_count": 103,
   "metadata": {},
   "outputs": [
    {
     "data": {
      "text/plain": [
       "0.90262400157114253"
      ]
     },
     "execution_count": 103,
     "metadata": {},
     "output_type": "execute_result"
    }
   ],
   "source": [
    "gs_en.score(X_test, y_test)"
   ]
  },
  {
   "cell_type": "code",
   "execution_count": 105,
   "metadata": {},
   "outputs": [
    {
     "name": "stdout",
     "output_type": "stream",
     "text": [
      "Fitting 8 folds for each of 32 candidates, totalling 256 fits\n"
     ]
    },
    {
     "name": "stderr",
     "output_type": "stream",
     "text": [
      "[Parallel(n_jobs=1)]: Done 256 out of 256 | elapsed: 27.9min finished\n"
     ]
    },
    {
     "data": {
      "text/plain": [
       "GridSearchCV(cv=8, error_score='raise',\n",
       "       estimator=ElasticNet(alpha=1.0, copy_X=True, fit_intercept=True, l1_ratio=0.5,\n",
       "      max_iter=1000, normalize=False, positive=False, precompute=False,\n",
       "      random_state=None, selection='cyclic', tol=0.0001, warm_start=False),\n",
       "       fit_params={}, iid=True, n_jobs=1,\n",
       "       param_grid={'alpha': array([ 0.01,  0.02,  0.03,  0.04,  0.05,  0.06,  0.07,  0.08]), 'l1_ratio': array([ 0.8    ,  0.86667,  0.93333,  1.     ])},\n",
       "       pre_dispatch='2*n_jobs', refit=True, return_train_score=True,\n",
       "       scoring=None, verbose=1)"
      ]
     },
     "execution_count": 105,
     "metadata": {},
     "output_type": "execute_result"
    }
   ],
   "source": [
    "# expanding gridsearch, since optimal alpha was the lowest possible value from previous grid search parameters.\n",
    "\n",
    "params = {\n",
    "    'alpha': np.linspace(0.01,.08,8),\n",
    "    'l1_ratio': np.linspace(.8,1,4)\n",
    "}\n",
    "en = ElasticNet()\n",
    "gs_en = GridSearchCV(en, params, cv=8, verbose=1)\n",
    "\n",
    "gs_en.fit(X_train, y_train)"
   ]
  },
  {
   "cell_type": "code",
   "execution_count": 106,
   "metadata": {},
   "outputs": [
    {
     "data": {
      "text/plain": [
       "{'alpha': 0.080000000000000002, 'l1_ratio': 0.80000000000000004}"
      ]
     },
     "execution_count": 106,
     "metadata": {},
     "output_type": "execute_result"
    }
   ],
   "source": [
    "gs_en.best_params_"
   ]
  },
  {
   "cell_type": "code",
   "execution_count": 108,
   "metadata": {},
   "outputs": [
    {
     "data": {
      "text/plain": [
       "0.92184461143995367"
      ]
     },
     "execution_count": 108,
     "metadata": {},
     "output_type": "execute_result"
    }
   ],
   "source": [
    "gs_en.best_score_"
   ]
  },
  {
   "cell_type": "code",
   "execution_count": 282,
   "metadata": {},
   "outputs": [
    {
     "data": {
      "text/plain": [
       "0.91049939610329389"
      ]
     },
     "execution_count": 282,
     "metadata": {},
     "output_type": "execute_result"
    }
   ],
   "source": [
    "gs_en.score(X_test, y_test)\n",
    "\n",
    "# Our score is not getting better on the testing data."
   ]
  },
  {
   "cell_type": "code",
   "execution_count": 22,
   "metadata": {},
   "outputs": [
    {
     "data": {
      "text/plain": [
       "ElasticNet(alpha=0.08, copy_X=True, fit_intercept=True, l1_ratio=0.8,\n",
       "      max_iter=1000, normalize=False, positive=False, precompute=False,\n",
       "      random_state=None, selection='cyclic', tol=0.0001, warm_start=False)"
      ]
     },
     "execution_count": 22,
     "metadata": {},
     "output_type": "execute_result"
    }
   ],
   "source": [
    "en = ElasticNet(alpha=.08, l1_ratio=0.8)\n",
    "en.fit(X_train, y_train)"
   ]
  },
  {
   "cell_type": "code",
   "execution_count": 172,
   "metadata": {
    "collapsed": true
   },
   "outputs": [],
   "source": [
    "# saving the model.\n",
    "\n",
    "en_filename = 'finalized_en_model.sav'\n",
    "pickle.dump(en, open(en_filename, 'wb'))"
   ]
  },
  {
   "cell_type": "markdown",
   "metadata": {},
   "source": [
    "### Score for Elastic Net Model"
   ]
  },
  {
   "cell_type": "markdown",
   "metadata": {},
   "source": [
    "The R2 score of the elastic net model on the validation data is no better than the linear regression model using size alone.  In this model, size dominates our predictions, and is by far the most important factor in determining annual output.  There does appear to be a slight negative effect of diffuse horizontal irradiance.  This makes sense, given that diffuse irradiance is higher in areas where there is more cloud cover and particulates in the air."
   ]
  },
  {
   "cell_type": "code",
   "execution_count": 23,
   "metadata": {},
   "outputs": [
    {
     "data": {
      "text/plain": [
       "0.9293679750648387"
      ]
     },
     "execution_count": 23,
     "metadata": {},
     "output_type": "execute_result"
    }
   ],
   "source": [
    "en.score(X_test, y_test)"
   ]
  },
  {
   "cell_type": "code",
   "execution_count": 60,
   "metadata": {},
   "outputs": [
    {
     "data": {
      "text/plain": [
       "<matplotlib.text.Text at 0x1168616d0>"
      ]
     },
     "execution_count": 60,
     "metadata": {},
     "output_type": "execute_result"
    },
    {
     "data": {
      "image/png": "[encoded data removed]",
      "text/plain": [
       "<matplotlib.figure.Figure at 0x110fc88d0>"
      ]
     },
     "metadata": {},
     "output_type": "display_data"
    }
   ],
   "source": [
    "# plotting elastic net coefficients.\n",
    "\n",
    "coefs = pd.DataFrame({\n",
    "    'feature': X.columns,\n",
    "    'coefficient': en.coef_,\n",
    "    'abs_coef': np.abs(en.coef_)\n",
    "})\n",
    "coefs.sort_values('abs_coef', inplace=True, ascending=False)\n",
    "\n",
    "plt.figure(figsize=(7,10))\n",
    "sns.barplot(x=coefs.coefficient.head(10), y=coefs.feature.head(10), orient='h')\n",
    "plt.title(\"Elastic Net Coefficients\")"
   ]
  },
  {
   "cell_type": "code",
   "execution_count": null,
   "metadata": {
    "collapsed": true
   },
   "outputs": [],
   "source": [
    "# What does this improvement mean in dollars annually?"
   ]
  },
  {
   "cell_type": "code",
   "execution_count": 28,
   "metadata": {},
   "outputs": [
    {
     "data": {
      "text/plain": [
       "4286.6919944469637"
      ]
     },
     "execution_count": 28,
     "metadata": {},
     "output_type": "execute_result"
    }
   ],
   "source": [
    "en_pred = en.predict(X_test)\n",
    "mse_en = mean_squared_error(np.array(nrel_y_true), en_pred)\n",
    "\n",
    "# Root mean squared error dollars\n",
    "mse_en ** 0.5 * .1024"
   ]
  },
  {
   "cell_type": "code",
   "execution_count": 29,
   "metadata": {},
   "outputs": [
    {
     "data": {
      "text/plain": [
       "158.6822585401917"
      ]
     },
     "execution_count": 29,
     "metadata": {},
     "output_type": "execute_result"
    }
   ],
   "source": [
    "en_residuals_abs = np.abs(np.array(nrel_y_true) - en_pred)\n",
    "# median absolute value error in dollars\n",
    "\n",
    "np.median(en_residuals_abs * .1024)"
   ]
  },
  {
   "cell_type": "markdown",
   "metadata": {},
   "source": [
    "# Training Random Forest Model"
   ]
  },
  {
   "cell_type": "code",
   "execution_count": 113,
   "metadata": {
    "collapsed": true
   },
   "outputs": [],
   "source": [
    "rand_forest = RandomForestRegressor(n_estimators=150)\n",
    "\n",
    "params = {\n",
    "    'max_depth': [65,70,75,80,90],\n",
    "    'max_features': [10,11,12]\n",
    "}\n",
    "\n",
    "gs_rf = GridSearchCV(rand_forest, params, cv=8, verbose=1)"
   ]
  },
  {
   "cell_type": "code",
   "execution_count": 31,
   "metadata": {
    "collapsed": true
   },
   "outputs": [],
   "source": [
    "# making a new train/test split that's not normalized.\n",
    "\n",
    "X_train, X_test, y_train, y_test = train_test_split(X, y, train_size=.75, random_state=25)"
   ]
  },
  {
   "cell_type": "code",
   "execution_count": 116,
   "metadata": {},
   "outputs": [
    {
     "name": "stdout",
     "output_type": "stream",
     "text": [
      "Fitting 8 folds for each of 15 candidates, totalling 120 fits\n"
     ]
    },
    {
     "name": "stderr",
     "output_type": "stream",
     "text": [
      "//anaconda/lib/python2.7/site-packages/sklearn/model_selection/_validation.py:238: DataConversionWarning: A column-vector y was passed when a 1d array was expected. Please change the shape of y to (n_samples,), for example using ravel().\n",
      "  estimator.fit(X_train, y_train, **fit_params)\n",
      "[Parallel(n_jobs=1)]: Done 120 out of 120 | elapsed: 194.6min finished\n",
      "//anaconda/lib/python2.7/site-packages/sklearn/model_selection/_search.py:645: DataConversionWarning: A column-vector y was passed when a 1d array was expected. Please change the shape of y to (n_samples,), for example using ravel().\n",
      "  best_estimator.fit(X, y, **self.fit_params)\n"
     ]
    },
    {
     "data": {
      "text/plain": [
       "GridSearchCV(cv=8, error_score='raise',\n",
       "       estimator=RandomForestRegressor(bootstrap=True, criterion='mse', max_depth=None,\n",
       "           max_features='auto', max_leaf_nodes=None,\n",
       "           min_impurity_split=1e-07, min_samples_leaf=1,\n",
       "           min_samples_split=2, min_weight_fraction_leaf=0.0,\n",
       "           n_estimators=150, n_jobs=1, oob_score=False, random_state=None,\n",
       "           verbose=0, warm_start=False),\n",
       "       fit_params={}, iid=True, n_jobs=1,\n",
       "       param_grid={'max_features': [10, 11, 12], 'max_depth': [65, 70, 75, 80, 90]},\n",
       "       pre_dispatch='2*n_jobs', refit=True, return_train_score=True,\n",
       "       scoring=None, verbose=1)"
      ]
     },
     "execution_count": 116,
     "metadata": {},
     "output_type": "execute_result"
    }
   ],
   "source": [
    "gs_rf.fit(X_train, y_train)"
   ]
  },
  {
   "cell_type": "code",
   "execution_count": 117,
   "metadata": {},
   "outputs": [
    {
     "data": {
      "text/plain": [
       "0.91866230060217668"
      ]
     },
     "execution_count": 117,
     "metadata": {},
     "output_type": "execute_result"
    }
   ],
   "source": [
    "gs_rf.best_score_"
   ]
  },
  {
   "cell_type": "code",
   "execution_count": 118,
   "metadata": {},
   "outputs": [
    {
     "data": {
      "text/plain": [
       "0.9487661780415132"
      ]
     },
     "execution_count": 118,
     "metadata": {},
     "output_type": "execute_result"
    }
   ],
   "source": [
    "gs_rf.score(X_test, y_test)"
   ]
  },
  {
   "cell_type": "code",
   "execution_count": 119,
   "metadata": {},
   "outputs": [
    {
     "data": {
      "text/plain": [
       "{'max_depth': 65, 'max_features': 11}"
      ]
     },
     "execution_count": 119,
     "metadata": {},
     "output_type": "execute_result"
    }
   ],
   "source": [
    "gs_rf.best_params_"
   ]
  },
  {
   "cell_type": "code",
   "execution_count": null,
   "metadata": {
    "collapsed": true
   },
   "outputs": [],
   "source": [
    "# Let's try some different params, since max depth was the lowest level we gave it."
   ]
  },
  {
   "cell_type": "code",
   "execution_count": 120,
   "metadata": {
    "collapsed": true
   },
   "outputs": [],
   "source": [
    "params = {\n",
    "    'max_depth': [60,62,65],\n",
    "    'max_features': [10,11,12]\n",
    "}\n",
    "\n",
    "gs_rf = GridSearchCV(rand_forest, params, cv=8, verbose=1)"
   ]
  },
  {
   "cell_type": "code",
   "execution_count": 121,
   "metadata": {},
   "outputs": [
    {
     "name": "stdout",
     "output_type": "stream",
     "text": [
      "Fitting 8 folds for each of 9 candidates, totalling 72 fits\n"
     ]
    },
    {
     "name": "stderr",
     "output_type": "stream",
     "text": [
      "[Parallel(n_jobs=1)]: Done  72 out of  72 | elapsed: 120.9min finished\n"
     ]
    },
    {
     "data": {
      "text/plain": [
       "GridSearchCV(cv=8, error_score='raise',\n",
       "       estimator=RandomForestRegressor(bootstrap=True, criterion='mse', max_depth=None,\n",
       "           max_features='auto', max_leaf_nodes=None,\n",
       "           min_impurity_split=1e-07, min_samples_leaf=1,\n",
       "           min_samples_split=2, min_weight_fraction_leaf=0.0,\n",
       "           n_estimators=150, n_jobs=1, oob_score=False, random_state=None,\n",
       "           verbose=0, warm_start=False),\n",
       "       fit_params={}, iid=True, n_jobs=1,\n",
       "       param_grid={'max_features': [10, 11, 12], 'max_depth': [60, 62, 65]},\n",
       "       pre_dispatch='2*n_jobs', refit=True, return_train_score=True,\n",
       "       scoring=None, verbose=1)"
      ]
     },
     "execution_count": 121,
     "metadata": {},
     "output_type": "execute_result"
    }
   ],
   "source": [
    "gs_rf.fit(X_train, y_train)"
   ]
  },
  {
   "cell_type": "code",
   "execution_count": 122,
   "metadata": {},
   "outputs": [
    {
     "data": {
      "text/plain": [
       "{'max_depth': 62, 'max_features': 12}"
      ]
     },
     "execution_count": 122,
     "metadata": {},
     "output_type": "execute_result"
    }
   ],
   "source": [
    "gs_rf.best_params_"
   ]
  },
  {
   "cell_type": "code",
   "execution_count": 123,
   "metadata": {},
   "outputs": [
    {
     "data": {
      "text/plain": [
       "0.91995480462950152"
      ]
     },
     "execution_count": 123,
     "metadata": {},
     "output_type": "execute_result"
    }
   ],
   "source": [
    "gs_rf.best_score_"
   ]
  },
  {
   "cell_type": "markdown",
   "metadata": {},
   "source": [
    "### Score for RF model:"
   ]
  },
  {
   "cell_type": "code",
   "execution_count": 32,
   "metadata": {
    "scrolled": true
   },
   "outputs": [
    {
     "name": "stderr",
     "output_type": "stream",
     "text": [
      "/anaconda/lib/python2.7/site-packages/ipykernel_launcher.py:1: DataConversionWarning: A column-vector y was passed when a 1d array was expected. Please change the shape of y to (n_samples,), for example using ravel().\n",
      "  \"\"\"Entry point for launching an IPython kernel.\n"
     ]
    },
    {
     "name": "stdout",
     "output_type": "stream",
     "text": [
      "CPU times: user 2min 4s, sys: 2.31 s, total: 2min 6s\n",
      "Wall time: 2min 11s\n"
     ]
    },
    {
     "data": {
      "text/plain": [
       "RandomForestRegressor(bootstrap=True, criterion='mse', max_depth=62,\n",
       "           max_features=12, max_leaf_nodes=None, min_impurity_split=1e-07,\n",
       "           min_samples_leaf=1, min_samples_split=2,\n",
       "           min_weight_fraction_leaf=0.0, n_estimators=150, n_jobs=1,\n",
       "           oob_score=False, random_state=None, verbose=0, warm_start=False)"
      ]
     },
     "execution_count": 32,
     "metadata": {},
     "output_type": "execute_result"
    }
   ],
   "source": [
    "rf = RandomForestRegressor(n_estimators=150, max_depth=62, max_features=12)\n",
    "\n",
    "%time rf.fit(X_train, y_train)"
   ]
  },
  {
   "cell_type": "code",
   "execution_count": 34,
   "metadata": {},
   "outputs": [
    {
     "data": {
      "text/plain": [
       "0.97305201121015517"
      ]
     },
     "execution_count": 34,
     "metadata": {},
     "output_type": "execute_result"
    }
   ],
   "source": [
    "rf.score(X_test, y_test)"
   ]
  },
  {
   "cell_type": "code",
   "execution_count": null,
   "metadata": {
    "collapsed": true
   },
   "outputs": [],
   "source": [
    "# saving this model.\n",
    "import pickle\n",
    "\n",
    "filename = 'finalized_rf_model.sav'\n",
    "pickle.dump(rf, open(filename, 'wb'))"
   ]
  },
  {
   "cell_type": "code",
   "execution_count": 37,
   "metadata": {},
   "outputs": [
    {
     "data": {
      "text/plain": [
       "<matplotlib.text.Text at 0x119532750>"
      ]
     },
     "execution_count": 37,
     "metadata": {},
     "output_type": "execute_result"
    },
    {
     "data": {
      "image/png": "[encoded data removed]",
      "text/plain": [
       "<matplotlib.figure.Figure at 0x114616710>"
      ]
     },
     "metadata": {},
     "output_type": "display_data"
    }
   ],
   "source": [
    "feature_imports = pd.DataFrame({\n",
    "    'feature': X.columns,\n",
    "    'importance': rf.feature_importances_\n",
    "})\n",
    "\n",
    "feature_imports.sort_values(\"importance\", inplace=True, ascending=False)\n",
    "plt.figure(figsize=(7,10))\n",
    "sns.barplot(x=feature_imports.importance.head(10), y=feature_imports.feature.head(10), orient='h')\n",
    "plt.title(\"Random Forest Feature Importance\")"
   ]
  },
  {
   "cell_type": "code",
   "execution_count": 38,
   "metadata": {
    "collapsed": true
   },
   "outputs": [],
   "source": [
    "rf_pred = rf.predict(X_test)"
   ]
  },
  {
   "cell_type": "code",
   "execution_count": 39,
   "metadata": {},
   "outputs": [
    {
     "data": {
      "text/plain": [
       "2647.7966620365455"
      ]
     },
     "execution_count": 39,
     "metadata": {},
     "output_type": "execute_result"
    }
   ],
   "source": [
    "mse_rf = mean_squared_error(nrel_y_true, rf_pred)\n",
    "\n",
    "# Root mean squared error dollars\n",
    "mse_rf ** 0.5 * .1024"
   ]
  },
  {
   "cell_type": "code",
   "execution_count": 40,
   "metadata": {},
   "outputs": [
    {
     "data": {
      "text/plain": [
       "15.446016000000016"
      ]
     },
     "execution_count": 40,
     "metadata": {},
     "output_type": "execute_result"
    }
   ],
   "source": [
    "# Calculating median dollars estimate is off in annual returns on solar energy generated.\n",
    "\n",
    "abs_residuals = np.abs(np.array(nrel_y_true) - np.array(rf_pred))\n",
    "\n",
    "# avg us rate per kilowatt hour is $.1024\n",
    "residuals_dollars = abs_residuals * .1024\n",
    "\n",
    "np.median(residuals_dollars)"
   ]
  },
  {
   "cell_type": "markdown",
   "metadata": {},
   "source": [
    "# Neural Net Model\n",
    "\n",
    "This neural net model scored a .925 R2 on the testing data, failing to outperform the random forest model.  After extensive tuning I was unable to get the R2 over this amount.  Given the time required to train and tune this model, it's lack of interpretability, and the strength of the models I've already built, I decided to move on from this, and use the random forest model in production for my web app."
   ]
  },
  {
   "cell_type": "code",
   "execution_count": 165,
   "metadata": {
    "collapsed": true
   },
   "outputs": [
    {
     "name": "stderr",
     "output_type": "stream",
     "text": [
      "Using TensorFlow backend.\n"
     ]
    },
    {
     "name": "stdout",
     "output_type": "stream",
     "text": [
      "Couldn't import dot_parser, loading of dot files will not be possible.\n"
     ]
    },
    {
     "name": "stderr",
     "output_type": "stream",
     "text": [
      "//anaconda/lib/python2.7/site-packages/dask/dataframe/hashing.py:6: FutureWarning: The pandas.lib module is deprecated and will be removed in a future version. These are private functions and can be accessed from pandas._libs.lib instead\n",
      "  from pandas.lib import is_bool_array\n"
     ]
    },
    {
     "ename": "AttributeError",
     "evalue": "'module' object has no attribute 'computation'",
     "output_type": "error",
     "traceback": [
      "\u001b[0;31m---------------------------------------------------------------------------\u001b[0m",
      "\u001b[0;31mAttributeError\u001b[0m                            Traceback (most recent call last)",
      "\u001b[0;32m<ipython-input-165-0ddaaf687496>\u001b[0m in \u001b[0;36m<module>\u001b[0;34m()\u001b[0m\n\u001b[0;32m----> 1\u001b[0;31m \u001b[0;32mimport\u001b[0m \u001b[0mkeras\u001b[0m\u001b[0;34m\u001b[0m\u001b[0m\n\u001b[0m\u001b[1;32m      2\u001b[0m \u001b[0;32mimport\u001b[0m \u001b[0mkeras\u001b[0m\u001b[0;34m.\u001b[0m\u001b[0mbackend\u001b[0m \u001b[0;32mas\u001b[0m \u001b[0mK\u001b[0m\u001b[0;34m\u001b[0m\u001b[0m\n\u001b[1;32m      3\u001b[0m \u001b[0;31m#K._BACKEND == 'tensorflow'\u001b[0m\u001b[0;34m\u001b[0m\u001b[0;34m\u001b[0m\u001b[0m\n\u001b[1;32m      4\u001b[0m \u001b[0;34m\u001b[0m\u001b[0m\n\u001b[1;32m      5\u001b[0m \u001b[0;32mimport\u001b[0m \u001b[0mpandas\u001b[0m \u001b[0;32mas\u001b[0m \u001b[0mpd\u001b[0m\u001b[0;34m\u001b[0m\u001b[0m\n",
      "\u001b[0;32m//anaconda/lib/python2.7/site-packages/keras/__init__.py\u001b[0m in \u001b[0;36m<module>\u001b[0;34m()\u001b[0m\n\u001b[1;32m      1\u001b[0m \u001b[0;32mfrom\u001b[0m \u001b[0m__future__\u001b[0m \u001b[0;32mimport\u001b[0m \u001b[0mabsolute_import\u001b[0m\u001b[0;34m\u001b[0m\u001b[0m\n\u001b[1;32m      2\u001b[0m \u001b[0;34m\u001b[0m\u001b[0m\n\u001b[0;32m----> 3\u001b[0;31m \u001b[0;32mfrom\u001b[0m \u001b[0;34m.\u001b[0m \u001b[0;32mimport\u001b[0m \u001b[0mactivations\u001b[0m\u001b[0;34m\u001b[0m\u001b[0m\n\u001b[0m\u001b[1;32m      4\u001b[0m \u001b[0;32mfrom\u001b[0m \u001b[0;34m.\u001b[0m \u001b[0;32mimport\u001b[0m \u001b[0mapplications\u001b[0m\u001b[0;34m\u001b[0m\u001b[0m\n\u001b[1;32m      5\u001b[0m \u001b[0;32mfrom\u001b[0m \u001b[0;34m.\u001b[0m \u001b[0;32mimport\u001b[0m \u001b[0mbackend\u001b[0m\u001b[0;34m\u001b[0m\u001b[0m\n",
      "\u001b[0;32m//anaconda/lib/python2.7/site-packages/keras/activations.py\u001b[0m in \u001b[0;36m<module>\u001b[0;34m()\u001b[0m\n\u001b[1;32m      4\u001b[0m \u001b[0;32mfrom\u001b[0m \u001b[0;34m.\u001b[0m \u001b[0;32mimport\u001b[0m \u001b[0mbackend\u001b[0m \u001b[0;32mas\u001b[0m \u001b[0mK\u001b[0m\u001b[0;34m\u001b[0m\u001b[0m\n\u001b[1;32m      5\u001b[0m \u001b[0;32mfrom\u001b[0m \u001b[0;34m.\u001b[0m\u001b[0mutils\u001b[0m\u001b[0;34m.\u001b[0m\u001b[0mgeneric_utils\u001b[0m \u001b[0;32mimport\u001b[0m \u001b[0mdeserialize_keras_object\u001b[0m\u001b[0;34m\u001b[0m\u001b[0m\n\u001b[0;32m----> 6\u001b[0;31m \u001b[0;32mfrom\u001b[0m \u001b[0;34m.\u001b[0m\u001b[0mengine\u001b[0m \u001b[0;32mimport\u001b[0m \u001b[0mLayer\u001b[0m\u001b[0;34m\u001b[0m\u001b[0m\n\u001b[0m\u001b[1;32m      7\u001b[0m \u001b[0;34m\u001b[0m\u001b[0m\n\u001b[1;32m      8\u001b[0m \u001b[0;34m\u001b[0m\u001b[0m\n",
      "\u001b[0;32m//anaconda/lib/python2.7/site-packages/keras/engine/__init__.py\u001b[0m in \u001b[0;36m<module>\u001b[0;34m()\u001b[0m\n\u001b[1;32m      6\u001b[0m \u001b[0;32mfrom\u001b[0m \u001b[0;34m.\u001b[0m\u001b[0mtopology\u001b[0m \u001b[0;32mimport\u001b[0m \u001b[0mLayer\u001b[0m\u001b[0;34m\u001b[0m\u001b[0m\n\u001b[1;32m      7\u001b[0m \u001b[0;32mfrom\u001b[0m \u001b[0;34m.\u001b[0m\u001b[0mtopology\u001b[0m \u001b[0;32mimport\u001b[0m \u001b[0mget_source_inputs\u001b[0m\u001b[0;34m\u001b[0m\u001b[0m\n\u001b[0;32m----> 8\u001b[0;31m \u001b[0;32mfrom\u001b[0m \u001b[0;34m.\u001b[0m\u001b[0mtraining\u001b[0m \u001b[0;32mimport\u001b[0m \u001b[0mModel\u001b[0m\u001b[0;34m\u001b[0m\u001b[0m\n\u001b[0m",
      "\u001b[0;32m//anaconda/lib/python2.7/site-packages/keras/engine/training.py\u001b[0m in \u001b[0;36m<module>\u001b[0;34m()\u001b[0m\n\u001b[1;32m     22\u001b[0m \u001b[0;32mfrom\u001b[0m \u001b[0;34m.\u001b[0m\u001b[0;34m.\u001b[0m \u001b[0;32mimport\u001b[0m \u001b[0mmetrics\u001b[0m \u001b[0;32mas\u001b[0m \u001b[0mmetrics_module\u001b[0m\u001b[0;34m\u001b[0m\u001b[0m\n\u001b[1;32m     23\u001b[0m \u001b[0;32mfrom\u001b[0m \u001b[0;34m.\u001b[0m\u001b[0;34m.\u001b[0m\u001b[0mutils\u001b[0m\u001b[0;34m.\u001b[0m\u001b[0mgeneric_utils\u001b[0m \u001b[0;32mimport\u001b[0m \u001b[0mProgbar\u001b[0m\u001b[0;34m\u001b[0m\u001b[0m\n\u001b[0;32m---> 24\u001b[0;31m \u001b[0;32mfrom\u001b[0m \u001b[0;34m.\u001b[0m\u001b[0;34m.\u001b[0m \u001b[0;32mimport\u001b[0m \u001b[0mcallbacks\u001b[0m \u001b[0;32mas\u001b[0m \u001b[0mcbks\u001b[0m\u001b[0;34m\u001b[0m\u001b[0m\n\u001b[0m\u001b[1;32m     25\u001b[0m \u001b[0;32mfrom\u001b[0m \u001b[0;34m.\u001b[0m\u001b[0;34m.\u001b[0m\u001b[0mlegacy\u001b[0m \u001b[0;32mimport\u001b[0m \u001b[0minterfaces\u001b[0m\u001b[0;34m\u001b[0m\u001b[0m\n\u001b[1;32m     26\u001b[0m \u001b[0;34m\u001b[0m\u001b[0m\n",
      "\u001b[0;32m//anaconda/lib/python2.7/site-packages/keras/callbacks.py\u001b[0m in \u001b[0;36m<module>\u001b[0;34m()\u001b[0m\n\u001b[1;32m     24\u001b[0m \u001b[0;32mif\u001b[0m \u001b[0mK\u001b[0m\u001b[0;34m.\u001b[0m\u001b[0mbackend\u001b[0m\u001b[0;34m(\u001b[0m\u001b[0;34m)\u001b[0m \u001b[0;34m==\u001b[0m \u001b[0;34m'tensorflow'\u001b[0m\u001b[0;34m:\u001b[0m\u001b[0;34m\u001b[0m\u001b[0m\n\u001b[1;32m     25\u001b[0m     \u001b[0;32mimport\u001b[0m \u001b[0mtensorflow\u001b[0m \u001b[0;32mas\u001b[0m \u001b[0mtf\u001b[0m\u001b[0;34m\u001b[0m\u001b[0m\n\u001b[0;32m---> 26\u001b[0;31m     \u001b[0;32mfrom\u001b[0m \u001b[0mtensorflow\u001b[0m\u001b[0;34m.\u001b[0m\u001b[0mcontrib\u001b[0m\u001b[0;34m.\u001b[0m\u001b[0mtensorboard\u001b[0m\u001b[0;34m.\u001b[0m\u001b[0mplugins\u001b[0m \u001b[0;32mimport\u001b[0m \u001b[0mprojector\u001b[0m\u001b[0;34m\u001b[0m\u001b[0m\n\u001b[0m\u001b[1;32m     27\u001b[0m \u001b[0;34m\u001b[0m\u001b[0m\n\u001b[1;32m     28\u001b[0m \u001b[0;34m\u001b[0m\u001b[0m\n",
      "\u001b[0;32m//anaconda/lib/python2.7/site-packages/tensorflow/contrib/__init__.py\u001b[0m in \u001b[0;36m<module>\u001b[0;34m()\u001b[0m\n\u001b[1;32m     28\u001b[0m \u001b[0;32mfrom\u001b[0m \u001b[0mtensorflow\u001b[0m\u001b[0;34m.\u001b[0m\u001b[0mcontrib\u001b[0m \u001b[0;32mimport\u001b[0m \u001b[0mdeprecated\u001b[0m\u001b[0;34m\u001b[0m\u001b[0m\n\u001b[1;32m     29\u001b[0m \u001b[0;32mfrom\u001b[0m \u001b[0mtensorflow\u001b[0m\u001b[0;34m.\u001b[0m\u001b[0mcontrib\u001b[0m \u001b[0;32mimport\u001b[0m \u001b[0mdistributions\u001b[0m\u001b[0;34m\u001b[0m\u001b[0m\n\u001b[0;32m---> 30\u001b[0;31m \u001b[0;32mfrom\u001b[0m \u001b[0mtensorflow\u001b[0m\u001b[0;34m.\u001b[0m\u001b[0mcontrib\u001b[0m \u001b[0;32mimport\u001b[0m \u001b[0mfactorization\u001b[0m\u001b[0;34m\u001b[0m\u001b[0m\n\u001b[0m\u001b[1;32m     31\u001b[0m \u001b[0;32mfrom\u001b[0m \u001b[0mtensorflow\u001b[0m\u001b[0;34m.\u001b[0m\u001b[0mcontrib\u001b[0m \u001b[0;32mimport\u001b[0m \u001b[0mframework\u001b[0m\u001b[0;34m\u001b[0m\u001b[0m\n\u001b[1;32m     32\u001b[0m \u001b[0;32mfrom\u001b[0m \u001b[0mtensorflow\u001b[0m\u001b[0;34m.\u001b[0m\u001b[0mcontrib\u001b[0m \u001b[0;32mimport\u001b[0m \u001b[0mgraph_editor\u001b[0m\u001b[0;34m\u001b[0m\u001b[0m\n",
      "\u001b[0;32m//anaconda/lib/python2.7/site-packages/tensorflow/contrib/factorization/__init__.py\u001b[0m in \u001b[0;36m<module>\u001b[0;34m()\u001b[0m\n\u001b[1;32m     22\u001b[0m \u001b[0;32mfrom\u001b[0m \u001b[0mtensorflow\u001b[0m\u001b[0;34m.\u001b[0m\u001b[0mcontrib\u001b[0m\u001b[0;34m.\u001b[0m\u001b[0mfactorization\u001b[0m\u001b[0;34m.\u001b[0m\u001b[0mpython\u001b[0m\u001b[0;34m.\u001b[0m\u001b[0mops\u001b[0m\u001b[0;34m.\u001b[0m\u001b[0mclustering_ops\u001b[0m \u001b[0;32mimport\u001b[0m \u001b[0;34m*\u001b[0m\u001b[0;34m\u001b[0m\u001b[0m\n\u001b[1;32m     23\u001b[0m \u001b[0;32mfrom\u001b[0m \u001b[0mtensorflow\u001b[0m\u001b[0;34m.\u001b[0m\u001b[0mcontrib\u001b[0m\u001b[0;34m.\u001b[0m\u001b[0mfactorization\u001b[0m\u001b[0;34m.\u001b[0m\u001b[0mpython\u001b[0m\u001b[0;34m.\u001b[0m\u001b[0mops\u001b[0m\u001b[0;34m.\u001b[0m\u001b[0mfactorization_ops\u001b[0m \u001b[0;32mimport\u001b[0m \u001b[0;34m*\u001b[0m\u001b[0;34m\u001b[0m\u001b[0m\n\u001b[0;32m---> 24\u001b[0;31m \u001b[0;32mfrom\u001b[0m \u001b[0mtensorflow\u001b[0m\u001b[0;34m.\u001b[0m\u001b[0mcontrib\u001b[0m\u001b[0;34m.\u001b[0m\u001b[0mfactorization\u001b[0m\u001b[0;34m.\u001b[0m\u001b[0mpython\u001b[0m\u001b[0;34m.\u001b[0m\u001b[0mops\u001b[0m\u001b[0;34m.\u001b[0m\u001b[0mgmm\u001b[0m \u001b[0;32mimport\u001b[0m \u001b[0;34m*\u001b[0m\u001b[0;34m\u001b[0m\u001b[0m\n\u001b[0m\u001b[1;32m     25\u001b[0m \u001b[0;32mfrom\u001b[0m \u001b[0mtensorflow\u001b[0m\u001b[0;34m.\u001b[0m\u001b[0mcontrib\u001b[0m\u001b[0;34m.\u001b[0m\u001b[0mfactorization\u001b[0m\u001b[0;34m.\u001b[0m\u001b[0mpython\u001b[0m\u001b[0;34m.\u001b[0m\u001b[0mops\u001b[0m\u001b[0;34m.\u001b[0m\u001b[0mgmm_ops\u001b[0m \u001b[0;32mimport\u001b[0m \u001b[0;34m*\u001b[0m\u001b[0;34m\u001b[0m\u001b[0m\n\u001b[1;32m     26\u001b[0m \u001b[0;31m# pylint: enable=wildcard-import\u001b[0m\u001b[0;34m\u001b[0m\u001b[0;34m\u001b[0m\u001b[0m\n",
      "\u001b[0;32m//anaconda/lib/python2.7/site-packages/tensorflow/contrib/factorization/python/ops/gmm.py\u001b[0m in \u001b[0;36m<module>\u001b[0;34m()\u001b[0m\n\u001b[1;32m     25\u001b[0m \u001b[0;32mfrom\u001b[0m \u001b[0mtensorflow\u001b[0m\u001b[0;34m.\u001b[0m\u001b[0mcontrib\u001b[0m\u001b[0;34m.\u001b[0m\u001b[0mframework\u001b[0m\u001b[0;34m.\u001b[0m\u001b[0mpython\u001b[0m\u001b[0;34m.\u001b[0m\u001b[0mframework\u001b[0m \u001b[0;32mimport\u001b[0m \u001b[0mcheckpoint_utils\u001b[0m\u001b[0;34m\u001b[0m\u001b[0m\n\u001b[1;32m     26\u001b[0m \u001b[0;32mfrom\u001b[0m \u001b[0mtensorflow\u001b[0m\u001b[0;34m.\u001b[0m\u001b[0mcontrib\u001b[0m\u001b[0;34m.\u001b[0m\u001b[0mframework\u001b[0m\u001b[0;34m.\u001b[0m\u001b[0mpython\u001b[0m\u001b[0;34m.\u001b[0m\u001b[0mops\u001b[0m \u001b[0;32mimport\u001b[0m \u001b[0mvariables\u001b[0m\u001b[0;34m\u001b[0m\u001b[0m\n\u001b[0;32m---> 27\u001b[0;31m \u001b[0;32mfrom\u001b[0m \u001b[0mtensorflow\u001b[0m\u001b[0;34m.\u001b[0m\u001b[0mcontrib\u001b[0m\u001b[0;34m.\u001b[0m\u001b[0mlearn\u001b[0m\u001b[0;34m.\u001b[0m\u001b[0mpython\u001b[0m\u001b[0;34m.\u001b[0m\u001b[0mlearn\u001b[0m\u001b[0;34m.\u001b[0m\u001b[0mestimators\u001b[0m \u001b[0;32mimport\u001b[0m \u001b[0mestimator\u001b[0m\u001b[0;34m\u001b[0m\u001b[0m\n\u001b[0m\u001b[1;32m     28\u001b[0m \u001b[0;32mfrom\u001b[0m \u001b[0mtensorflow\u001b[0m\u001b[0;34m.\u001b[0m\u001b[0mcontrib\u001b[0m\u001b[0;34m.\u001b[0m\u001b[0mlearn\u001b[0m\u001b[0;34m.\u001b[0m\u001b[0mpython\u001b[0m\u001b[0;34m.\u001b[0m\u001b[0mlearn\u001b[0m\u001b[0;34m.\u001b[0m\u001b[0mestimators\u001b[0m \u001b[0;32mimport\u001b[0m \u001b[0mmodel_fn\u001b[0m \u001b[0;32mas\u001b[0m \u001b[0mmodel_fn_lib\u001b[0m\u001b[0;34m\u001b[0m\u001b[0m\n\u001b[1;32m     29\u001b[0m \u001b[0;32mfrom\u001b[0m \u001b[0mtensorflow\u001b[0m\u001b[0;34m.\u001b[0m\u001b[0mpython\u001b[0m\u001b[0;34m.\u001b[0m\u001b[0mframework\u001b[0m \u001b[0;32mimport\u001b[0m \u001b[0mconstant_op\u001b[0m\u001b[0;34m\u001b[0m\u001b[0m\n",
      "\u001b[0;32m//anaconda/lib/python2.7/site-packages/tensorflow/contrib/learn/__init__.py\u001b[0m in \u001b[0;36m<module>\u001b[0;34m()\u001b[0m\n\u001b[1;32m     85\u001b[0m \u001b[0;34m\u001b[0m\u001b[0m\n\u001b[1;32m     86\u001b[0m \u001b[0;31m# pylint: disable=wildcard-import\u001b[0m\u001b[0;34m\u001b[0m\u001b[0;34m\u001b[0m\u001b[0m\n\u001b[0;32m---> 87\u001b[0;31m \u001b[0;32mfrom\u001b[0m \u001b[0mtensorflow\u001b[0m\u001b[0;34m.\u001b[0m\u001b[0mcontrib\u001b[0m\u001b[0;34m.\u001b[0m\u001b[0mlearn\u001b[0m\u001b[0;34m.\u001b[0m\u001b[0mpython\u001b[0m\u001b[0;34m.\u001b[0m\u001b[0mlearn\u001b[0m \u001b[0;32mimport\u001b[0m \u001b[0;34m*\u001b[0m\u001b[0;34m\u001b[0m\u001b[0m\n\u001b[0m\u001b[1;32m     88\u001b[0m \u001b[0;31m# pylint: enable=wildcard-import\u001b[0m\u001b[0;34m\u001b[0m\u001b[0;34m\u001b[0m\u001b[0m\n\u001b[1;32m     89\u001b[0m \u001b[0;34m\u001b[0m\u001b[0m\n",
      "\u001b[0;32m//anaconda/lib/python2.7/site-packages/tensorflow/contrib/learn/python/__init__.py\u001b[0m in \u001b[0;36m<module>\u001b[0;34m()\u001b[0m\n\u001b[1;32m     21\u001b[0m \u001b[0;34m\u001b[0m\u001b[0m\n\u001b[1;32m     22\u001b[0m \u001b[0;31m# pylint: disable=wildcard-import\u001b[0m\u001b[0;34m\u001b[0m\u001b[0;34m\u001b[0m\u001b[0m\n\u001b[0;32m---> 23\u001b[0;31m \u001b[0;32mfrom\u001b[0m \u001b[0mtensorflow\u001b[0m\u001b[0;34m.\u001b[0m\u001b[0mcontrib\u001b[0m\u001b[0;34m.\u001b[0m\u001b[0mlearn\u001b[0m\u001b[0;34m.\u001b[0m\u001b[0mpython\u001b[0m\u001b[0;34m.\u001b[0m\u001b[0mlearn\u001b[0m \u001b[0;32mimport\u001b[0m \u001b[0;34m*\u001b[0m\u001b[0;34m\u001b[0m\u001b[0m\n\u001b[0m\u001b[1;32m     24\u001b[0m \u001b[0;31m# pylint: enable=wildcard-import\u001b[0m\u001b[0;34m\u001b[0m\u001b[0;34m\u001b[0m\u001b[0m\n",
      "\u001b[0;32m//anaconda/lib/python2.7/site-packages/tensorflow/contrib/learn/python/learn/__init__.py\u001b[0m in \u001b[0;36m<module>\u001b[0;34m()\u001b[0m\n\u001b[1;32m     23\u001b[0m \u001b[0;32mfrom\u001b[0m \u001b[0mtensorflow\u001b[0m\u001b[0;34m.\u001b[0m\u001b[0mcontrib\u001b[0m\u001b[0;34m.\u001b[0m\u001b[0mlearn\u001b[0m\u001b[0;34m.\u001b[0m\u001b[0mpython\u001b[0m\u001b[0;34m.\u001b[0m\u001b[0mlearn\u001b[0m \u001b[0;32mimport\u001b[0m \u001b[0mbasic_session_run_hooks\u001b[0m\u001b[0;34m\u001b[0m\u001b[0m\n\u001b[1;32m     24\u001b[0m \u001b[0;32mfrom\u001b[0m \u001b[0mtensorflow\u001b[0m\u001b[0;34m.\u001b[0m\u001b[0mcontrib\u001b[0m\u001b[0;34m.\u001b[0m\u001b[0mlearn\u001b[0m\u001b[0;34m.\u001b[0m\u001b[0mpython\u001b[0m\u001b[0;34m.\u001b[0m\u001b[0mlearn\u001b[0m \u001b[0;32mimport\u001b[0m \u001b[0mdatasets\u001b[0m\u001b[0;34m\u001b[0m\u001b[0m\n\u001b[0;32m---> 25\u001b[0;31m \u001b[0;32mfrom\u001b[0m \u001b[0mtensorflow\u001b[0m\u001b[0;34m.\u001b[0m\u001b[0mcontrib\u001b[0m\u001b[0;34m.\u001b[0m\u001b[0mlearn\u001b[0m\u001b[0;34m.\u001b[0m\u001b[0mpython\u001b[0m\u001b[0;34m.\u001b[0m\u001b[0mlearn\u001b[0m \u001b[0;32mimport\u001b[0m \u001b[0mestimators\u001b[0m\u001b[0;34m\u001b[0m\u001b[0m\n\u001b[0m\u001b[1;32m     26\u001b[0m \u001b[0;32mfrom\u001b[0m \u001b[0mtensorflow\u001b[0m\u001b[0;34m.\u001b[0m\u001b[0mcontrib\u001b[0m\u001b[0;34m.\u001b[0m\u001b[0mlearn\u001b[0m\u001b[0;34m.\u001b[0m\u001b[0mpython\u001b[0m\u001b[0;34m.\u001b[0m\u001b[0mlearn\u001b[0m \u001b[0;32mimport\u001b[0m \u001b[0mgraph_actions\u001b[0m\u001b[0;34m\u001b[0m\u001b[0m\n\u001b[1;32m     27\u001b[0m \u001b[0;32mfrom\u001b[0m \u001b[0mtensorflow\u001b[0m\u001b[0;34m.\u001b[0m\u001b[0mcontrib\u001b[0m\u001b[0;34m.\u001b[0m\u001b[0mlearn\u001b[0m\u001b[0;34m.\u001b[0m\u001b[0mpython\u001b[0m\u001b[0;34m.\u001b[0m\u001b[0mlearn\u001b[0m \u001b[0;32mimport\u001b[0m \u001b[0mlearn_io\u001b[0m \u001b[0;32mas\u001b[0m \u001b[0mio\u001b[0m\u001b[0;34m\u001b[0m\u001b[0m\n",
      "\u001b[0;32m//anaconda/lib/python2.7/site-packages/tensorflow/contrib/learn/python/learn/estimators/__init__.py\u001b[0m in \u001b[0;36m<module>\u001b[0;34m()\u001b[0m\n\u001b[1;32m    295\u001b[0m \u001b[0;32mfrom\u001b[0m \u001b[0mtensorflow\u001b[0m\u001b[0;34m.\u001b[0m\u001b[0mcontrib\u001b[0m\u001b[0;34m.\u001b[0m\u001b[0mlearn\u001b[0m\u001b[0;34m.\u001b[0m\u001b[0mpython\u001b[0m\u001b[0;34m.\u001b[0m\u001b[0mlearn\u001b[0m\u001b[0;34m.\u001b[0m\u001b[0mestimators\u001b[0m\u001b[0;34m.\u001b[0m\u001b[0m_sklearn\u001b[0m \u001b[0;32mimport\u001b[0m \u001b[0mNotFittedError\u001b[0m\u001b[0;34m\u001b[0m\u001b[0m\n\u001b[1;32m    296\u001b[0m \u001b[0;32mfrom\u001b[0m \u001b[0mtensorflow\u001b[0m\u001b[0;34m.\u001b[0m\u001b[0mcontrib\u001b[0m\u001b[0;34m.\u001b[0m\u001b[0mlearn\u001b[0m\u001b[0;34m.\u001b[0m\u001b[0mpython\u001b[0m\u001b[0;34m.\u001b[0m\u001b[0mlearn\u001b[0m\u001b[0;34m.\u001b[0m\u001b[0mestimators\u001b[0m\u001b[0;34m.\u001b[0m\u001b[0mconstants\u001b[0m \u001b[0;32mimport\u001b[0m \u001b[0mProblemType\u001b[0m\u001b[0;34m\u001b[0m\u001b[0m\n\u001b[0;32m--> 297\u001b[0;31m \u001b[0;32mfrom\u001b[0m \u001b[0mtensorflow\u001b[0m\u001b[0;34m.\u001b[0m\u001b[0mcontrib\u001b[0m\u001b[0;34m.\u001b[0m\u001b[0mlearn\u001b[0m\u001b[0;34m.\u001b[0m\u001b[0mpython\u001b[0m\u001b[0;34m.\u001b[0m\u001b[0mlearn\u001b[0m\u001b[0;34m.\u001b[0m\u001b[0mestimators\u001b[0m\u001b[0;34m.\u001b[0m\u001b[0mdnn\u001b[0m \u001b[0;32mimport\u001b[0m \u001b[0mDNNClassifier\u001b[0m\u001b[0;34m\u001b[0m\u001b[0m\n\u001b[0m\u001b[1;32m    298\u001b[0m \u001b[0;32mfrom\u001b[0m \u001b[0mtensorflow\u001b[0m\u001b[0;34m.\u001b[0m\u001b[0mcontrib\u001b[0m\u001b[0;34m.\u001b[0m\u001b[0mlearn\u001b[0m\u001b[0;34m.\u001b[0m\u001b[0mpython\u001b[0m\u001b[0;34m.\u001b[0m\u001b[0mlearn\u001b[0m\u001b[0;34m.\u001b[0m\u001b[0mestimators\u001b[0m\u001b[0;34m.\u001b[0m\u001b[0mdnn\u001b[0m \u001b[0;32mimport\u001b[0m \u001b[0mDNNEstimator\u001b[0m\u001b[0;34m\u001b[0m\u001b[0m\n\u001b[1;32m    299\u001b[0m \u001b[0;32mfrom\u001b[0m \u001b[0mtensorflow\u001b[0m\u001b[0;34m.\u001b[0m\u001b[0mcontrib\u001b[0m\u001b[0;34m.\u001b[0m\u001b[0mlearn\u001b[0m\u001b[0;34m.\u001b[0m\u001b[0mpython\u001b[0m\u001b[0;34m.\u001b[0m\u001b[0mlearn\u001b[0m\u001b[0;34m.\u001b[0m\u001b[0mestimators\u001b[0m\u001b[0;34m.\u001b[0m\u001b[0mdnn\u001b[0m \u001b[0;32mimport\u001b[0m \u001b[0mDNNRegressor\u001b[0m\u001b[0;34m\u001b[0m\u001b[0m\n",
      "\u001b[0;32m//anaconda/lib/python2.7/site-packages/tensorflow/contrib/learn/python/learn/estimators/dnn.py\u001b[0m in \u001b[0;36m<module>\u001b[0;34m()\u001b[0m\n\u001b[1;32m     27\u001b[0m \u001b[0;32mfrom\u001b[0m \u001b[0mtensorflow\u001b[0m\u001b[0;34m.\u001b[0m\u001b[0mcontrib\u001b[0m\u001b[0;34m.\u001b[0m\u001b[0mlayers\u001b[0m\u001b[0;34m.\u001b[0m\u001b[0mpython\u001b[0m\u001b[0;34m.\u001b[0m\u001b[0mlayers\u001b[0m \u001b[0;32mimport\u001b[0m \u001b[0moptimizers\u001b[0m\u001b[0;34m\u001b[0m\u001b[0m\n\u001b[1;32m     28\u001b[0m \u001b[0;32mfrom\u001b[0m \u001b[0mtensorflow\u001b[0m\u001b[0;34m.\u001b[0m\u001b[0mcontrib\u001b[0m\u001b[0;34m.\u001b[0m\u001b[0mlearn\u001b[0m\u001b[0;34m.\u001b[0m\u001b[0mpython\u001b[0m\u001b[0;34m.\u001b[0m\u001b[0mlearn\u001b[0m \u001b[0;32mimport\u001b[0m \u001b[0mmetric_spec\u001b[0m\u001b[0;34m\u001b[0m\u001b[0m\n\u001b[0;32m---> 29\u001b[0;31m \u001b[0;32mfrom\u001b[0m \u001b[0mtensorflow\u001b[0m\u001b[0;34m.\u001b[0m\u001b[0mcontrib\u001b[0m\u001b[0;34m.\u001b[0m\u001b[0mlearn\u001b[0m\u001b[0;34m.\u001b[0m\u001b[0mpython\u001b[0m\u001b[0;34m.\u001b[0m\u001b[0mlearn\u001b[0m\u001b[0;34m.\u001b[0m\u001b[0mestimators\u001b[0m \u001b[0;32mimport\u001b[0m \u001b[0mdnn_linear_combined\u001b[0m\u001b[0;34m\u001b[0m\u001b[0m\n\u001b[0m\u001b[1;32m     30\u001b[0m \u001b[0;32mfrom\u001b[0m \u001b[0mtensorflow\u001b[0m\u001b[0;34m.\u001b[0m\u001b[0mcontrib\u001b[0m\u001b[0;34m.\u001b[0m\u001b[0mlearn\u001b[0m\u001b[0;34m.\u001b[0m\u001b[0mpython\u001b[0m\u001b[0;34m.\u001b[0m\u001b[0mlearn\u001b[0m\u001b[0;34m.\u001b[0m\u001b[0mestimators\u001b[0m \u001b[0;32mimport\u001b[0m \u001b[0mestimator\u001b[0m\u001b[0;34m\u001b[0m\u001b[0m\n\u001b[1;32m     31\u001b[0m \u001b[0;32mfrom\u001b[0m \u001b[0mtensorflow\u001b[0m\u001b[0;34m.\u001b[0m\u001b[0mcontrib\u001b[0m\u001b[0;34m.\u001b[0m\u001b[0mlearn\u001b[0m\u001b[0;34m.\u001b[0m\u001b[0mpython\u001b[0m\u001b[0;34m.\u001b[0m\u001b[0mlearn\u001b[0m\u001b[0;34m.\u001b[0m\u001b[0mestimators\u001b[0m \u001b[0;32mimport\u001b[0m \u001b[0mhead\u001b[0m \u001b[0;32mas\u001b[0m \u001b[0mhead_lib\u001b[0m\u001b[0;34m\u001b[0m\u001b[0m\n",
      "\u001b[0;32m//anaconda/lib/python2.7/site-packages/tensorflow/contrib/learn/python/learn/estimators/dnn_linear_combined.py\u001b[0m in \u001b[0;36m<module>\u001b[0;34m()\u001b[0m\n\u001b[1;32m     29\u001b[0m \u001b[0;32mfrom\u001b[0m \u001b[0mtensorflow\u001b[0m\u001b[0;34m.\u001b[0m\u001b[0mcontrib\u001b[0m\u001b[0;34m.\u001b[0m\u001b[0mlayers\u001b[0m\u001b[0;34m.\u001b[0m\u001b[0mpython\u001b[0m\u001b[0;34m.\u001b[0m\u001b[0mlayers\u001b[0m \u001b[0;32mimport\u001b[0m \u001b[0moptimizers\u001b[0m\u001b[0;34m\u001b[0m\u001b[0m\n\u001b[1;32m     30\u001b[0m \u001b[0;32mfrom\u001b[0m \u001b[0mtensorflow\u001b[0m\u001b[0;34m.\u001b[0m\u001b[0mcontrib\u001b[0m\u001b[0;34m.\u001b[0m\u001b[0mlearn\u001b[0m\u001b[0;34m.\u001b[0m\u001b[0mpython\u001b[0m\u001b[0;34m.\u001b[0m\u001b[0mlearn\u001b[0m \u001b[0;32mimport\u001b[0m \u001b[0mmetric_spec\u001b[0m\u001b[0;34m\u001b[0m\u001b[0m\n\u001b[0;32m---> 31\u001b[0;31m \u001b[0;32mfrom\u001b[0m \u001b[0mtensorflow\u001b[0m\u001b[0;34m.\u001b[0m\u001b[0mcontrib\u001b[0m\u001b[0;34m.\u001b[0m\u001b[0mlearn\u001b[0m\u001b[0;34m.\u001b[0m\u001b[0mpython\u001b[0m\u001b[0;34m.\u001b[0m\u001b[0mlearn\u001b[0m\u001b[0;34m.\u001b[0m\u001b[0mestimators\u001b[0m \u001b[0;32mimport\u001b[0m \u001b[0mestimator\u001b[0m\u001b[0;34m\u001b[0m\u001b[0m\n\u001b[0m\u001b[1;32m     32\u001b[0m \u001b[0;32mfrom\u001b[0m \u001b[0mtensorflow\u001b[0m\u001b[0;34m.\u001b[0m\u001b[0mcontrib\u001b[0m\u001b[0;34m.\u001b[0m\u001b[0mlearn\u001b[0m\u001b[0;34m.\u001b[0m\u001b[0mpython\u001b[0m\u001b[0;34m.\u001b[0m\u001b[0mlearn\u001b[0m\u001b[0;34m.\u001b[0m\u001b[0mestimators\u001b[0m \u001b[0;32mimport\u001b[0m \u001b[0mhead\u001b[0m \u001b[0;32mas\u001b[0m \u001b[0mhead_lib\u001b[0m\u001b[0;34m\u001b[0m\u001b[0m\n\u001b[1;32m     33\u001b[0m \u001b[0;32mfrom\u001b[0m \u001b[0mtensorflow\u001b[0m\u001b[0;34m.\u001b[0m\u001b[0mcontrib\u001b[0m\u001b[0;34m.\u001b[0m\u001b[0mlearn\u001b[0m\u001b[0;34m.\u001b[0m\u001b[0mpython\u001b[0m\u001b[0;34m.\u001b[0m\u001b[0mlearn\u001b[0m\u001b[0;34m.\u001b[0m\u001b[0mestimators\u001b[0m \u001b[0;32mimport\u001b[0m \u001b[0mmodel_fn\u001b[0m\u001b[0;34m\u001b[0m\u001b[0m\n",
      "\u001b[0;32m//anaconda/lib/python2.7/site-packages/tensorflow/contrib/learn/python/learn/estimators/estimator.py\u001b[0m in \u001b[0;36m<module>\u001b[0;34m()\u001b[0m\n\u001b[1;32m     47\u001b[0m \u001b[0;32mfrom\u001b[0m \u001b[0mtensorflow\u001b[0m\u001b[0;34m.\u001b[0m\u001b[0mcontrib\u001b[0m\u001b[0;34m.\u001b[0m\u001b[0mlearn\u001b[0m\u001b[0;34m.\u001b[0m\u001b[0mpython\u001b[0m\u001b[0;34m.\u001b[0m\u001b[0mlearn\u001b[0m\u001b[0;34m.\u001b[0m\u001b[0mestimators\u001b[0m \u001b[0;32mimport\u001b[0m \u001b[0mtensor_signature\u001b[0m\u001b[0;34m\u001b[0m\u001b[0m\n\u001b[1;32m     48\u001b[0m \u001b[0;32mfrom\u001b[0m \u001b[0mtensorflow\u001b[0m\u001b[0;34m.\u001b[0m\u001b[0mcontrib\u001b[0m\u001b[0;34m.\u001b[0m\u001b[0mlearn\u001b[0m\u001b[0;34m.\u001b[0m\u001b[0mpython\u001b[0m\u001b[0;34m.\u001b[0m\u001b[0mlearn\u001b[0m\u001b[0;34m.\u001b[0m\u001b[0mestimators\u001b[0m\u001b[0;34m.\u001b[0m\u001b[0m_sklearn\u001b[0m \u001b[0;32mimport\u001b[0m \u001b[0mNotFittedError\u001b[0m\u001b[0;34m\u001b[0m\u001b[0m\n\u001b[0;32m---> 49\u001b[0;31m \u001b[0;32mfrom\u001b[0m \u001b[0mtensorflow\u001b[0m\u001b[0;34m.\u001b[0m\u001b[0mcontrib\u001b[0m\u001b[0;34m.\u001b[0m\u001b[0mlearn\u001b[0m\u001b[0;34m.\u001b[0m\u001b[0mpython\u001b[0m\u001b[0;34m.\u001b[0m\u001b[0mlearn\u001b[0m\u001b[0;34m.\u001b[0m\u001b[0mlearn_io\u001b[0m \u001b[0;32mimport\u001b[0m \u001b[0mdata_feeder\u001b[0m\u001b[0;34m\u001b[0m\u001b[0m\n\u001b[0m\u001b[1;32m     50\u001b[0m \u001b[0;32mfrom\u001b[0m \u001b[0mtensorflow\u001b[0m\u001b[0;34m.\u001b[0m\u001b[0mcontrib\u001b[0m\u001b[0;34m.\u001b[0m\u001b[0mlearn\u001b[0m\u001b[0;34m.\u001b[0m\u001b[0mpython\u001b[0m\u001b[0;34m.\u001b[0m\u001b[0mlearn\u001b[0m\u001b[0;34m.\u001b[0m\u001b[0mutils\u001b[0m \u001b[0;32mimport\u001b[0m \u001b[0mexport\u001b[0m\u001b[0;34m\u001b[0m\u001b[0m\n\u001b[1;32m     51\u001b[0m \u001b[0;32mfrom\u001b[0m \u001b[0mtensorflow\u001b[0m\u001b[0;34m.\u001b[0m\u001b[0mcontrib\u001b[0m\u001b[0;34m.\u001b[0m\u001b[0mlearn\u001b[0m\u001b[0;34m.\u001b[0m\u001b[0mpython\u001b[0m\u001b[0;34m.\u001b[0m\u001b[0mlearn\u001b[0m\u001b[0;34m.\u001b[0m\u001b[0mutils\u001b[0m \u001b[0;32mimport\u001b[0m \u001b[0msaved_model_export_utils\u001b[0m\u001b[0;34m\u001b[0m\u001b[0m\n",
      "\u001b[0;32m//anaconda/lib/python2.7/site-packages/tensorflow/contrib/learn/python/learn/learn_io/__init__.py\u001b[0m in \u001b[0;36m<module>\u001b[0;34m()\u001b[0m\n\u001b[1;32m     19\u001b[0m \u001b[0;32mfrom\u001b[0m \u001b[0m__future__\u001b[0m \u001b[0;32mimport\u001b[0m \u001b[0mprint_function\u001b[0m\u001b[0;34m\u001b[0m\u001b[0m\n\u001b[1;32m     20\u001b[0m \u001b[0;34m\u001b[0m\u001b[0m\n\u001b[0;32m---> 21\u001b[0;31m \u001b[0;32mfrom\u001b[0m \u001b[0mtensorflow\u001b[0m\u001b[0;34m.\u001b[0m\u001b[0mcontrib\u001b[0m\u001b[0;34m.\u001b[0m\u001b[0mlearn\u001b[0m\u001b[0;34m.\u001b[0m\u001b[0mpython\u001b[0m\u001b[0;34m.\u001b[0m\u001b[0mlearn\u001b[0m\u001b[0;34m.\u001b[0m\u001b[0mlearn_io\u001b[0m\u001b[0;34m.\u001b[0m\u001b[0mdask_io\u001b[0m \u001b[0;32mimport\u001b[0m \u001b[0mextract_dask_data\u001b[0m\u001b[0;34m\u001b[0m\u001b[0m\n\u001b[0m\u001b[1;32m     22\u001b[0m \u001b[0;32mfrom\u001b[0m \u001b[0mtensorflow\u001b[0m\u001b[0;34m.\u001b[0m\u001b[0mcontrib\u001b[0m\u001b[0;34m.\u001b[0m\u001b[0mlearn\u001b[0m\u001b[0;34m.\u001b[0m\u001b[0mpython\u001b[0m\u001b[0;34m.\u001b[0m\u001b[0mlearn\u001b[0m\u001b[0;34m.\u001b[0m\u001b[0mlearn_io\u001b[0m\u001b[0;34m.\u001b[0m\u001b[0mdask_io\u001b[0m \u001b[0;32mimport\u001b[0m \u001b[0mextract_dask_labels\u001b[0m\u001b[0;34m\u001b[0m\u001b[0m\n\u001b[1;32m     23\u001b[0m \u001b[0;32mfrom\u001b[0m \u001b[0mtensorflow\u001b[0m\u001b[0;34m.\u001b[0m\u001b[0mcontrib\u001b[0m\u001b[0;34m.\u001b[0m\u001b[0mlearn\u001b[0m\u001b[0;34m.\u001b[0m\u001b[0mpython\u001b[0m\u001b[0;34m.\u001b[0m\u001b[0mlearn\u001b[0m\u001b[0;34m.\u001b[0m\u001b[0mlearn_io\u001b[0m\u001b[0;34m.\u001b[0m\u001b[0mdask_io\u001b[0m \u001b[0;32mimport\u001b[0m \u001b[0mHAS_DASK\u001b[0m\u001b[0;34m\u001b[0m\u001b[0m\n",
      "\u001b[0;32m//anaconda/lib/python2.7/site-packages/tensorflow/contrib/learn/python/learn/learn_io/dask_io.py\u001b[0m in \u001b[0;36m<module>\u001b[0;34m()\u001b[0m\n\u001b[1;32m     24\u001b[0m \u001b[0;32mtry\u001b[0m\u001b[0;34m:\u001b[0m\u001b[0;34m\u001b[0m\u001b[0m\n\u001b[1;32m     25\u001b[0m   \u001b[0;31m# pylint: disable=g-import-not-at-top\u001b[0m\u001b[0;34m\u001b[0m\u001b[0;34m\u001b[0m\u001b[0m\n\u001b[0;32m---> 26\u001b[0;31m   \u001b[0;32mimport\u001b[0m \u001b[0mdask\u001b[0m\u001b[0;34m.\u001b[0m\u001b[0mdataframe\u001b[0m \u001b[0;32mas\u001b[0m \u001b[0mdd\u001b[0m\u001b[0;34m\u001b[0m\u001b[0m\n\u001b[0m\u001b[1;32m     27\u001b[0m   \u001b[0mallowed_classes\u001b[0m \u001b[0;34m=\u001b[0m \u001b[0;34m(\u001b[0m\u001b[0mdd\u001b[0m\u001b[0;34m.\u001b[0m\u001b[0mSeries\u001b[0m\u001b[0;34m,\u001b[0m \u001b[0mdd\u001b[0m\u001b[0;34m.\u001b[0m\u001b[0mDataFrame\u001b[0m\u001b[0;34m)\u001b[0m\u001b[0;34m\u001b[0m\u001b[0m\n\u001b[1;32m     28\u001b[0m   \u001b[0mHAS_DASK\u001b[0m \u001b[0;34m=\u001b[0m \u001b[0mTrue\u001b[0m\u001b[0;34m\u001b[0m\u001b[0m\n",
      "\u001b[0;32m//anaconda/lib/python2.7/site-packages/dask/dataframe/__init__.py\u001b[0m in \u001b[0;36m<module>\u001b[0;34m()\u001b[0m\n\u001b[1;32m      1\u001b[0m \u001b[0;32mfrom\u001b[0m \u001b[0m__future__\u001b[0m \u001b[0;32mimport\u001b[0m \u001b[0mprint_function\u001b[0m\u001b[0;34m,\u001b[0m \u001b[0mdivision\u001b[0m\u001b[0;34m,\u001b[0m \u001b[0mabsolute_import\u001b[0m\u001b[0;34m\u001b[0m\u001b[0m\n\u001b[1;32m      2\u001b[0m \u001b[0;34m\u001b[0m\u001b[0m\n\u001b[0;32m----> 3\u001b[0;31m from .core import (DataFrame, Series, Index, _Frame, map_partitions,\n\u001b[0m\u001b[1;32m      4\u001b[0m                    repartition, to_delayed)\n\u001b[1;32m      5\u001b[0m from .io import (from_array, from_pandas, from_bcolz,\n",
      "\u001b[0;32m//anaconda/lib/python2.7/site-packages/dask/dataframe/core.py\u001b[0m in \u001b[0;36m<module>\u001b[0;34m()\u001b[0m\n\u001b[1;32m     36\u001b[0m \u001b[0mno_default\u001b[0m \u001b[0;34m=\u001b[0m \u001b[0;34m'__no_default__'\u001b[0m\u001b[0;34m\u001b[0m\u001b[0m\n\u001b[1;32m     37\u001b[0m \u001b[0;34m\u001b[0m\u001b[0m\n\u001b[0;32m---> 38\u001b[0;31m \u001b[0mpd\u001b[0m\u001b[0;34m.\u001b[0m\u001b[0mcomputation\u001b[0m\u001b[0;34m.\u001b[0m\u001b[0mexpressions\u001b[0m\u001b[0;34m.\u001b[0m\u001b[0mset_use_numexpr\u001b[0m\u001b[0;34m(\u001b[0m\u001b[0mFalse\u001b[0m\u001b[0;34m)\u001b[0m\u001b[0;34m\u001b[0m\u001b[0m\n\u001b[0m\u001b[1;32m     39\u001b[0m \u001b[0;34m\u001b[0m\u001b[0m\n\u001b[1;32m     40\u001b[0m \u001b[0;34m\u001b[0m\u001b[0m\n",
      "\u001b[0;31mAttributeError\u001b[0m: 'module' object has no attribute 'computation'"
     ]
    }
   ],
   "source": [
    "import keras\n",
    "import keras.backend as K\n",
    "#K._BACKEND == 'tensorflow'\n",
    "\n",
    "import pandas as pd\n",
    "import numpy as np\n",
    "\n",
    "from keras.models import Sequential\n",
    "from keras.layers.core import Dense, Activation, Dropout\n",
    "from keras.callbacks import EarlyStopping\n",
    "from keras.callbacks import Callback\n",
    "\n",
    "import patsy\n",
    "import pickle\n",
    "\n",
    "from sklearn.preprocessing import StandardScaler\n",
    "from sklearn.model_selection import train_test_split\n",
    "from sklearn.metrics import r2_score"
   ]
  },
  {
   "cell_type": "code",
   "execution_count": null,
   "metadata": {
    "collapsed": true
   },
   "outputs": [],
   "source": [
    "# this is a custom r2 function to use in the model for evaluating performance\n",
    "def custom_r2(y_true, y_pred):\n",
    "    baseline = K.sum((y_true - K.mean(y_true))**2)\n",
    "    model_fit = K.sum((y_true - y_pred)**2)\n",
    "    return 1. - model_fit/baseline"
   ]
  },
  {
   "cell_type": "code",
   "execution_count": null,
   "metadata": {
    "collapsed": true
   },
   "outputs": [],
   "source": [
    "# Building Neural Net Model:\n",
    "model = Sequential()\n",
    "\n",
    "model.add(Dense(1024, input_shape=(21,), kernel_initializer='normal'))\n",
    "model.add(Activation('elu'))\n",
    "model.add(Dropout(.2))\n",
    "\n",
    "model.add(Dense(1024, kernel_initializer='normal'))\n",
    "model.add(Activation('elu'))\n",
    "model.add(Dropout(.5))\n",
    "\n",
    "model.add(Dense(1, kernel_initializer='normal'))\n",
    "model.add(Activation('linear'))\n",
    "\n",
    "model.compile(loss='mean_squared_error', optimizer='adam', metrics=[custom_r2])"
   ]
  },
  {
   "cell_type": "code",
   "execution_count": null,
   "metadata": {
    "collapsed": true
   },
   "outputs": [],
   "source": [
    "def early_stopping_cont_nn(model, X, y, val_data, batch_size=1, verbose=1, epochs_per_iter=1, max_iterations=10,\n",
    "                           patience=3, min_delta=.1):\n",
    "    \"\"\"DOCSTRING:\n",
    "    This function takes a keras neural net model predicting a continuous variable, with a custom r2 function as\n",
    "    the evaluation metric.  It will check the change to the r2 value and do an early stop if the r2 does not change by\n",
    "    the amount specifed in min delta.\n",
    "\n",
    "    - model: keras model to fit.\n",
    "    - X: numpy array of X training data.\n",
    "    - y: numpy array of y training data.\n",
    "    - val_data: (tuple) of numpy arrays of X and y validation data.\n",
    "    - batch_size: batch size for keras model fitting.\n",
    "    - verbose: 0/1 for whether keras model fitting is verbose.\n",
    "    - epochs_per_iteration: (int) How many epochs to fit before checking to see if the evaluation metric has change\\\n",
    "                enough to continue\n",
    "    - max_iterations: (int) How many iterations through the specified epochs before automatically stopping fitting.\n",
    "    - patience: (int) How many iterations can have less than the specified delta to the evaluation metric before stopping.\n",
    "    - min_delta: (int/float) How much evaluation metric must change by at minimum not to raise patience level.\n",
    "    \"\"\"\n",
    "\n",
    "    # if our model doesn't improve by a certain amount for 'patience' times, we'll break the fitting.\n",
    "    current_patience = 0\n",
    "    last_r2 = 0\n",
    "\n",
    "    for i in range(max_iterations):\n",
    "        model.fit(x=X, y=y, validation_data = val_data, batch_size=batch_size, verbose=verbose, epochs=epochs_per_iter)\n",
    "\n",
    "        current_r2 = r2_score(y_test, model.predict(np.array(X_test)))\n",
    "        print \"current r2: \", current_r2\n",
    "        print \"-----------------------\"\n",
    "        r2_diff = current_r2 - last_r2\n",
    "\n",
    "        print \"R2 improvement: \", r2_diff\n",
    "        print \"-----------------------\"\n",
    "        if r2_diff < min_delta:\n",
    "            print \"Improvement Does Not Meet Minimum, Adding One to Patience Score\"\n",
    "            print \"-----------------------\"\n",
    "            current_patience += 1\n",
    "        if current_patience >= patience:\n",
    "            print \"Stopping training, patience threshold met\"\n",
    "            break\n",
    "        last_r2 = current_r2\n",
    "\n",
    "print 'Training model!'\n",
    "\n",
    "# Calling the function we just wrote.  May need to tune batch size, min_delta, as well as the model.\n",
    "early_stopping_cont_nn(model, X=np.array(X_train), y=np.array(y_train).ravel(),\n",
    "                       val_data=(np.array(X_test), np.array(y_test).ravel()), epochs_per_iter=1,\n",
    "                       batch_size=500, verbose=1, max_iterations=1000, min_delta=.0005, patience=2)\n",
    "\n",
    "print r2_score(y_test, model.predict(np.array(X_test)))\n",
    "\n",
    "model.save('./neural_net_models/nn_2_wide.h5')"
   ]
  },
  {
   "cell_type": "markdown",
   "metadata": {},
   "source": [
    "# Predicting Output/Size"
   ]
  },
  {
   "cell_type": "markdown",
   "metadata": {},
   "source": [
    "Given that size domiantes the models so heavily, I wanted to look more closely into what other factors are most heavily influential over output.  I did this by predicting efficiency, as a ratio of output per unit size.  The results are consistent with the other models, but show more clearly that DNI and DHI, or irradiance, is the next most important factor in determing annual energy produced."
   ]
  },
  {
   "cell_type": "code",
   "execution_count": 41,
   "metadata": {
    "collapsed": true
   },
   "outputs": [
    {
     "name": "stdout",
     "output_type": "stream",
     "text": [
      "splitting into X and y design matrices\n",
      "splitting into train and test\n"
     ]
    },
    {
     "name": "stderr",
     "output_type": "stream",
     "text": [
      "//anaconda/lib/python2.7/site-packages/sklearn/preprocessing/data.py:321: DeprecationWarning: Passing 1d arrays as data is deprecated in 0.17 and will raise ValueError in 0.19. Reshape your data either using X.reshape(-1, 1) if your data has a single feature or X.reshape(1, -1) if it contains a single sample.\n",
      "  warnings.warn(DEPRECATION_MSG_1D, DeprecationWarning)\n",
      "//anaconda/lib/python2.7/site-packages/sklearn/preprocessing/data.py:356: DeprecationWarning: Passing 1d arrays as data is deprecated in 0.17 and will raise ValueError in 0.19. Reshape your data either using X.reshape(-1, 1) if your data has a single feature or X.reshape(1, -1) if it contains a single sample.\n",
      "  warnings.warn(DEPRECATION_MSG_1D, DeprecationWarning)\n",
      "//anaconda/lib/python2.7/site-packages/sklearn/preprocessing/data.py:321: DeprecationWarning: Passing 1d arrays as data is deprecated in 0.17 and will raise ValueError in 0.19. Reshape your data either using X.reshape(-1, 1) if your data has a single feature or X.reshape(1, -1) if it contains a single sample.\n",
      "  warnings.warn(DEPRECATION_MSG_1D, DeprecationWarning)\n",
      "//anaconda/lib/python2.7/site-packages/sklearn/preprocessing/data.py:356: DeprecationWarning: Passing 1d arrays as data is deprecated in 0.17 and will raise ValueError in 0.19. Reshape your data either using X.reshape(-1, 1) if your data has a single feature or X.reshape(1, -1) if it contains a single sample.\n",
      "  warnings.warn(DEPRECATION_MSG_1D, DeprecationWarning)\n",
      "//anaconda/lib/python2.7/site-packages/sklearn/preprocessing/data.py:321: DeprecationWarning: Passing 1d arrays as data is deprecated in 0.17 and will raise ValueError in 0.19. Reshape your data either using X.reshape(-1, 1) if your data has a single feature or X.reshape(1, -1) if it contains a single sample.\n",
      "  warnings.warn(DEPRECATION_MSG_1D, DeprecationWarning)\n",
      "//anaconda/lib/python2.7/site-packages/sklearn/preprocessing/data.py:356: DeprecationWarning: Passing 1d arrays as data is deprecated in 0.17 and will raise ValueError in 0.19. Reshape your data either using X.reshape(-1, 1) if your data has a single feature or X.reshape(1, -1) if it contains a single sample.\n",
      "  warnings.warn(DEPRECATION_MSG_1D, DeprecationWarning)\n",
      "//anaconda/lib/python2.7/site-packages/sklearn/preprocessing/data.py:321: DeprecationWarning: Passing 1d arrays as data is deprecated in 0.17 and will raise ValueError in 0.19. Reshape your data either using X.reshape(-1, 1) if your data has a single feature or X.reshape(1, -1) if it contains a single sample.\n",
      "  warnings.warn(DEPRECATION_MSG_1D, DeprecationWarning)\n",
      "//anaconda/lib/python2.7/site-packages/sklearn/preprocessing/data.py:356: DeprecationWarning: Passing 1d arrays as data is deprecated in 0.17 and will raise ValueError in 0.19. Reshape your data either using X.reshape(-1, 1) if your data has a single feature or X.reshape(1, -1) if it contains a single sample.\n",
      "  warnings.warn(DEPRECATION_MSG_1D, DeprecationWarning)\n",
      "//anaconda/lib/python2.7/site-packages/sklearn/preprocessing/data.py:321: DeprecationWarning: Passing 1d arrays as data is deprecated in 0.17 and will raise ValueError in 0.19. Reshape your data either using X.reshape(-1, 1) if your data has a single feature or X.reshape(1, -1) if it contains a single sample.\n",
      "  warnings.warn(DEPRECATION_MSG_1D, DeprecationWarning)\n",
      "//anaconda/lib/python2.7/site-packages/sklearn/preprocessing/data.py:356: DeprecationWarning: Passing 1d arrays as data is deprecated in 0.17 and will raise ValueError in 0.19. Reshape your data either using X.reshape(-1, 1) if your data has a single feature or X.reshape(1, -1) if it contains a single sample.\n",
      "  warnings.warn(DEPRECATION_MSG_1D, DeprecationWarning)\n",
      "//anaconda/lib/python2.7/site-packages/sklearn/preprocessing/data.py:321: DeprecationWarning: Passing 1d arrays as data is deprecated in 0.17 and will raise ValueError in 0.19. Reshape your data either using X.reshape(-1, 1) if your data has a single feature or X.reshape(1, -1) if it contains a single sample.\n",
      "  warnings.warn(DEPRECATION_MSG_1D, DeprecationWarning)\n",
      "//anaconda/lib/python2.7/site-packages/sklearn/preprocessing/data.py:356: DeprecationWarning: Passing 1d arrays as data is deprecated in 0.17 and will raise ValueError in 0.19. Reshape your data either using X.reshape(-1, 1) if your data has a single feature or X.reshape(1, -1) if it contains a single sample.\n",
      "  warnings.warn(DEPRECATION_MSG_1D, DeprecationWarning)\n"
     ]
    }
   ],
   "source": [
    "from sklearn.preprocessing import MinMaxScaler\n",
    "\n",
    "formula = \"\"\"\\\n",
    "efficiency ~ azimuth1 + optimal_tilt_diff + tech_1 + DHI + DNI + Wind_Speed + tracking_type\"\"\"\n",
    "\n",
    "print 'splitting into X and y design matrices'\n",
    "y, X = patsy.dmatrices(formula, df, return_type='dataframe')\n",
    "\n",
    "scaler = MinMaxScaler()\n",
    "\n",
    "X_scaled = X.copy()\n",
    "\n",
    "for c in X.columns:\n",
    "    if \"[\" not in c:\n",
    "        X_scaled[c] = scaler.fit_transform(X[c].values)\n",
    "\n",
    "# not using this, just doing a built in evaluation split.\n",
    "print 'splitting into train and test'\n",
    "\n",
    "X_train, X_test, y_train, y_test = train_test_split(X_scaled, y, train_size=.75, random_state=25)"
   ]
  },
  {
   "cell_type": "code",
   "execution_count": 42,
   "metadata": {},
   "outputs": [
    {
     "name": "stdout",
     "output_type": "stream",
     "text": [
      "Fitting 8 folds for each of 66 candidates, totalling 528 fits\n"
     ]
    },
    {
     "name": "stderr",
     "output_type": "stream",
     "text": [
      "[Parallel(n_jobs=1)]: Done 528 out of 528 | elapsed:  2.3min finished\n"
     ]
    },
    {
     "data": {
      "text/plain": [
       "GridSearchCV(cv=8, error_score='raise',\n",
       "       estimator=ElasticNet(alpha=1.0, copy_X=True, fit_intercept=True, l1_ratio=0.5,\n",
       "      max_iter=1000, normalize=False, positive=False, precompute=False,\n",
       "      random_state=None, selection='cyclic', tol=0.0001, warm_start=False),\n",
       "       fit_params={}, iid=True, n_jobs=1,\n",
       "       param_grid={'alpha': array([ 0.1 ,  0.19,  0.28,  0.37,  0.46,  0.55,  0.64,  0.73,  0.82,\n",
       "        0.91,  1.  ]), 'l1_ratio': array([ 0.5,  0.6,  0.7,  0.8,  0.9,  1. ])},\n",
       "       pre_dispatch='2*n_jobs', refit=True, return_train_score=True,\n",
       "       scoring=None, verbose=1)"
      ]
     },
     "execution_count": 42,
     "metadata": {},
     "output_type": "execute_result"
    }
   ],
   "source": [
    "# expanding gridsearch, since optimal alpha was the lowest possible value from previous grid search parameters.\n",
    "\n",
    "params = {\n",
    "    'alpha': np.linspace(0.1,1,11),\n",
    "    'l1_ratio': np.linspace(.5,1,6)\n",
    "}\n",
    "en = ElasticNet()\n",
    "gs_en = GridSearchCV(en, params, cv=8, verbose=1)\n",
    "\n",
    "gs_en.fit(X_train, y_train)"
   ]
  },
  {
   "cell_type": "code",
   "execution_count": 43,
   "metadata": {},
   "outputs": [
    {
     "data": {
      "text/plain": [
       "0.68284032062513589"
      ]
     },
     "execution_count": 43,
     "metadata": {},
     "output_type": "execute_result"
    }
   ],
   "source": [
    "gs_en.score(X_test, y_test)"
   ]
  },
  {
   "cell_type": "code",
   "execution_count": 44,
   "metadata": {},
   "outputs": [
    {
     "data": {
      "text/plain": [
       "ElasticNet(alpha=0.10000000000000001, copy_X=True, fit_intercept=True,\n",
       "      l1_ratio=1, max_iter=1000, normalize=False, positive=False,\n",
       "      precompute=False, random_state=None, selection='cyclic', tol=0.0001,\n",
       "      warm_start=False)"
      ]
     },
     "execution_count": 44,
     "metadata": {},
     "output_type": "execute_result"
    }
   ],
   "source": [
    "en_efficiency = ElasticNet(alpha=gs_en.best_params_['alpha'], l1_ratio=1)\n",
    "en_efficiency.fit(X_scaled, y)"
   ]
  },
  {
   "cell_type": "code",
   "execution_count": 45,
   "metadata": {},
   "outputs": [
    {
     "data": {
      "text/plain": [
       "<matplotlib.text.Text at 0x1196b03d0>"
      ]
     },
     "execution_count": 45,
     "metadata": {},
     "output_type": "execute_result"
    },
    {
     "data": {
      "image/png": "[encoded data removed]",
      "text/plain": [
       "<matplotlib.figure.Figure at 0x11963bfd0>"
      ]
     },
     "metadata": {},
     "output_type": "display_data"
    }
   ],
   "source": [
    "# plotting elastic net coefficients.\n",
    "\n",
    "coefs = pd.DataFrame({\n",
    "    'feature': X.columns,\n",
    "    'coefficient': en_efficiency.coef_,\n",
    "    'abs_coef': np.abs(en_efficiency.coef_)\n",
    "})\n",
    "coefs.sort_values('abs_coef', inplace=True, ascending=False)\n",
    "\n",
    "plt.figure(figsize=(7,10))\n",
    "sns.barplot(x=coefs.coefficient.head(10), y=coefs.feature.head(10), orient='h')\n",
    "plt.title(\"Elastic Net Coefficients\")"
   ]
  },
  {
   "cell_type": "markdown",
   "metadata": {},
   "source": [
    "# Partial Correlation of DNI with Output"
   ]
  },
  {
   "cell_type": "markdown",
   "metadata": {},
   "source": [
    "Given that size is such a strong predictor, it's interesting to see what the partial correlation between irradiance and output is.  I chose to look at the partial correlation between DNI and Output.\n",
    "\n",
    "Surprisingly, we see a pretty much negligble correlation of -0.013.  It's also surprising that this is negative, given that in the elastic net regression the cooefficient for DNI was positive."
   ]
  },
  {
   "cell_type": "code",
   "execution_count": null,
   "metadata": {
    "collapsed": true
   },
   "outputs": [],
   "source": [
    "# Let's look at all the partial correlations"
   ]
  },
  {
   "cell_type": "code",
   "execution_count": 46,
   "metadata": {
    "collapsed": true
   },
   "outputs": [],
   "source": [
    "import numpy as np\n",
    "from scipy import stats, linalg\n",
    "\n",
    "# Taken from github\n",
    "def partial_corr(C):\n",
    "    \"\"\"\n",
    "    Returns the sample linear partial correlation coefficients between pairs of variables in C, controlling \n",
    "    for the remaining variables in C.\n",
    "    Parameters\n",
    "    ----------\n",
    "    C : array-like, shape (n, p)\n",
    "        Array with the different variables. Each column of C is taken as a variable\n",
    "    Returns\n",
    "    -------\n",
    "    P : array-like, shape (p, p)\n",
    "        P[i, j] contains the partial correlation of C[:, i] and C[:, j] controlling\n",
    "        for the remaining variables in C.\n",
    "    \"\"\"\n",
    "    \n",
    "    C = np.asarray(C)\n",
    "    p = C.shape[1]\n",
    "    P_corr = np.zeros((p, p), dtype=np.float)\n",
    "    for i in range(p):\n",
    "        P_corr[i, i] = 1\n",
    "        for j in range(i+1, p):\n",
    "            idx = np.ones(p, dtype=np.bool)\n",
    "            idx[i] = False\n",
    "            idx[j] = False\n",
    "            beta_i = linalg.lstsq(C[:, idx], C[:, j])[0]\n",
    "            beta_j = linalg.lstsq(C[:, idx], C[:, i])[0]\n",
    "\n",
    "            res_j = C[:, j] - C[:, idx].dot( beta_i)\n",
    "            res_i = C[:, i] - C[:, idx].dot(beta_j)\n",
    "            \n",
    "            corr = stats.pearsonr(res_i, res_j)[0]\n",
    "            P_corr[i, j] = corr\n",
    "            P_corr[j, i] = corr\n",
    "        \n",
    "    return P_corr"
   ]
  },
  {
   "cell_type": "code",
   "execution_count": 66,
   "metadata": {},
   "outputs": [
    {
     "data": {
      "text/plain": [
       "Index([u'state', u'incentive_prog_names', u'type', u'size_kw', u'appraised',\n",
       "       u'zipcode', u'install_type', u'installer', u'cost', u'utility_clean',\n",
       "       u'tech_1', u'annual_PV_prod', u'rebate', u'tilt1', u'tracking_type',\n",
       "       u'azimuth1', u'reported_annual_energy_prod', u'new_constr', u'tracking',\n",
       "       u'third_party', u'bipv', u'year_installed', u'DHI', u'DNI', u'GHI',\n",
       "       u'Solar_Zenith_Angle', u'Temperature', u'Wind_Speed', u'Zipcode',\n",
       "       u'efficiency', u'Lat', u'optimal_tilt_diff'],\n",
       "      dtype='object')"
      ]
     },
     "execution_count": 66,
     "metadata": {},
     "output_type": "execute_result"
    }
   ],
   "source": [
    "df.columns"
   ]
  },
  {
   "cell_type": "code",
   "execution_count": 69,
   "metadata": {
    "collapsed": true
   },
   "outputs": [],
   "source": [
    "partial_corrs_df = df[['size_kw', 'optimal_tilt_diff', 'azimuth1', 'tilt1', 'DHI', 'DNI', 'Wind_Speed', 'Temperature',\n",
    "                       'reported_annual_energy_prod']]"
   ]
  },
  {
   "cell_type": "code",
   "execution_count": 70,
   "metadata": {
    "collapsed": true
   },
   "outputs": [],
   "source": [
    "partial_data = np.array(partial_corrs_df)"
   ]
  },
  {
   "cell_type": "code",
   "execution_count": 71,
   "metadata": {
    "collapsed": true
   },
   "outputs": [],
   "source": [
    "partial_corrs = partial_corr(partial_data)"
   ]
  },
  {
   "cell_type": "code",
   "execution_count": 72,
   "metadata": {
    "collapsed": true
   },
   "outputs": [],
   "source": [
    "def partial_corr_heat_map(df, title, size):\n",
    "    partial_data = np.array(df)\n",
    "    corrs = partial_corr(partial_data)\n",
    "    \n",
    "    # set figure size\n",
    "    fig, ax = plt.subplots(figsize = size)\n",
    "    \n",
    "    # generate a mask for the upper triagle \n",
    "    mask = np.zeros_like(corrs, dtype=np.bool)\n",
    "    mask[np.triu_indices_from(mask)] = True\n",
    "    \n",
    "    #plot heatmap\n",
    "    ax = sns.heatmap(corrs, mask=mask, annot = True, cbar=False)\n",
    "    \n",
    "    #resize labels\n",
    "    ax.set_xticklabels(df.columns, fontsize=12, rotation=30)\n",
    "    ax.set_yticklabels(df.columns[::-1], fontsize=12, rotation=0)\n",
    "    ax.set_title(title, fontsize=14)\n",
    "    \n",
    "    plt.show()"
   ]
  },
  {
   "cell_type": "code",
   "execution_count": 73,
   "metadata": {},
   "outputs": [
    {
     "data": {
      "image/png": "[encoded data removed]",
      "text/plain": [
       "<matplotlib.figure.Figure at 0x11ac30510>"
      ]
     },
     "metadata": {},
     "output_type": "display_data"
    }
   ],
   "source": [
    "partial_corr_heat_map(partial_corrs_df, \"Partial Correlation Matrix\", (12,8))"
   ]
  },
  {
   "cell_type": "code",
   "execution_count": null,
   "metadata": {
    "collapsed": true
   },
   "outputs": [],
   "source": []
  },
  {
   "cell_type": "code",
   "execution_count": null,
   "metadata": {
    "collapsed": true
   },
   "outputs": [],
   "source": []
  },
  {
   "cell_type": "code",
   "execution_count": null,
   "metadata": {
    "collapsed": true
   },
   "outputs": [],
   "source": []
  },
  {
   "cell_type": "code",
   "execution_count": null,
   "metadata": {
    "collapsed": true
   },
   "outputs": [],
   "source": []
  },
  {
   "cell_type": "code",
   "execution_count": null,
   "metadata": {
    "collapsed": true
   },
   "outputs": [],
   "source": []
  },
  {
   "cell_type": "code",
   "execution_count": null,
   "metadata": {
    "collapsed": true
   },
   "outputs": [],
   "source": []
  },
  {
   "cell_type": "code",
   "execution_count": null,
   "metadata": {
    "collapsed": true
   },
   "outputs": [],
   "source": []
  },
  {
   "cell_type": "code",
   "execution_count": null,
   "metadata": {
    "collapsed": true
   },
   "outputs": [],
   "source": []
  },
  {
   "cell_type": "code",
   "execution_count": null,
   "metadata": {
    "collapsed": true
   },
   "outputs": [],
   "source": []
  },
  {
   "cell_type": "code",
   "execution_count": null,
   "metadata": {
    "collapsed": true
   },
   "outputs": [],
   "source": []
  },
  {
   "cell_type": "code",
   "execution_count": null,
   "metadata": {
    "collapsed": true
   },
   "outputs": [],
   "source": []
  },
  {
   "cell_type": "code",
   "execution_count": null,
   "metadata": {
    "collapsed": true
   },
   "outputs": [],
   "source": []
  },
  {
   "cell_type": "code",
   "execution_count": null,
   "metadata": {
    "collapsed": true
   },
   "outputs": [],
   "source": []
  },
  {
   "cell_type": "code",
   "execution_count": null,
   "metadata": {
    "collapsed": true
   },
   "outputs": [],
   "source": []
  },
  {
   "cell_type": "code",
   "execution_count": null,
   "metadata": {
    "collapsed": true
   },
   "outputs": [],
   "source": []
  },
  {
   "cell_type": "code",
   "execution_count": null,
   "metadata": {
    "collapsed": true
   },
   "outputs": [],
   "source": []
  },
  {
   "cell_type": "code",
   "execution_count": null,
   "metadata": {
    "collapsed": true
   },
   "outputs": [],
   "source": []
  },
  {
   "cell_type": "code",
   "execution_count": null,
   "metadata": {
    "collapsed": true
   },
   "outputs": [],
   "source": []
  },
  {
   "cell_type": "code",
   "execution_count": null,
   "metadata": {
    "collapsed": true
   },
   "outputs": [],
   "source": []
  },
  {
   "cell_type": "code",
   "execution_count": null,
   "metadata": {
    "collapsed": true
   },
   "outputs": [],
   "source": []
  },
  {
   "cell_type": "code",
   "execution_count": null,
   "metadata": {
    "collapsed": true
   },
   "outputs": [],
   "source": []
  },
  {
   "cell_type": "code",
   "execution_count": null,
   "metadata": {
    "collapsed": true
   },
   "outputs": [],
   "source": []
  },
  {
   "cell_type": "code",
   "execution_count": null,
   "metadata": {
    "collapsed": true
   },
   "outputs": [],
   "source": []
  },
  {
   "cell_type": "code",
   "execution_count": null,
   "metadata": {
    "collapsed": true
   },
   "outputs": [],
   "source": []
  },
  {
   "cell_type": "code",
   "execution_count": null,
   "metadata": {
    "collapsed": true
   },
   "outputs": [],
   "source": []
  },
  {
   "cell_type": "code",
   "execution_count": null,
   "metadata": {
    "collapsed": true
   },
   "outputs": [],
   "source": []
  },
  {
   "cell_type": "code",
   "execution_count": null,
   "metadata": {
    "collapsed": true
   },
   "outputs": [],
   "source": []
  },
  {
   "cell_type": "code",
   "execution_count": null,
   "metadata": {
    "collapsed": true
   },
   "outputs": [],
   "source": []
  },
  {
   "cell_type": "code",
   "execution_count": null,
   "metadata": {
    "collapsed": true
   },
   "outputs": [],
   "source": []
  },
  {
   "cell_type": "code",
   "execution_count": null,
   "metadata": {
    "collapsed": true
   },
   "outputs": [],
   "source": []
  },
  {
   "cell_type": "markdown",
   "metadata": {
    "collapsed": true
   },
   "source": [
    "# Legacy Code"
   ]
  },
  {
   "cell_type": "markdown",
   "metadata": {},
   "source": [
    "### Partial correlation of just DNI\n"
   ]
  },
  {
   "cell_type": "code",
   "execution_count": null,
   "metadata": {
    "collapsed": true
   },
   "outputs": [],
   "source": [
    "# we need to regress all the variables with DNI and Output and then correlate the residuals."
   ]
  },
  {
   "cell_type": "code",
   "execution_count": 5,
   "metadata": {},
   "outputs": [
    {
     "name": "stdout",
     "output_type": "stream",
     "text": [
      "splitting into X and y design matrices\n",
      "splitting into train and test\n"
     ]
    }
   ],
   "source": [
    "# # First we need to make new dataframes for thre regressions with no DNI\n",
    "\n",
    "# formula = \"reported_annual_energy_prod ~ size_kw + azimuth1 + tilt1 + tech_1 + DHI + Wind_Speed + tracking_type\"\n",
    "\n",
    "# print 'splitting into X and y design matrices'\n",
    "# y, X = patsy.dmatrices(formula, df, return_type='dataframe')\n",
    "\n",
    "# scaler = StandardScaler()\n",
    "\n",
    "# X_scaled = pd.DataFrame(scaler.fit_transform(X))\n",
    "\n",
    "# # not using this, just doing a built in evaluation split.\n",
    "# print 'splitting into train and test'\n",
    "\n",
    "# X_train, X_test, y_train, y_test = train_test_split(X_scaled, y, train_size=.75, random_state=25)"
   ]
  },
  {
   "cell_type": "code",
   "execution_count": 6,
   "metadata": {
    "collapsed": true
   },
   "outputs": [],
   "source": [
    "# # just going to use the same parameters from the earlier elastic net model\n",
    "# en_pc_1 = ElasticNet(alpha=.08, l1_ratio=0.8)"
   ]
  },
  {
   "cell_type": "code",
   "execution_count": 7,
   "metadata": {},
   "outputs": [
    {
     "data": {
      "text/plain": [
       "ElasticNet(alpha=0.08, copy_X=True, fit_intercept=True, l1_ratio=0.8,\n",
       "      max_iter=1000, normalize=False, positive=False, precompute=False,\n",
       "      random_state=None, selection='cyclic', tol=0.0001, warm_start=False)"
      ]
     },
     "execution_count": 7,
     "metadata": {},
     "output_type": "execute_result"
    }
   ],
   "source": [
    "# en_pc_1.fit(X_train, y_train)"
   ]
  },
  {
   "cell_type": "code",
   "execution_count": 8,
   "metadata": {},
   "outputs": [
    {
     "data": {
      "text/plain": [
       "0.92935728635807624"
      ]
     },
     "execution_count": 8,
     "metadata": {},
     "output_type": "execute_result"
    }
   ],
   "source": [
    "# en_pc_1.score(X_test, y_test)"
   ]
  },
  {
   "cell_type": "code",
   "execution_count": 13,
   "metadata": {
    "scrolled": true
   },
   "outputs": [
    {
     "data": {
      "text/plain": [
       "array([ 13153.64781254,   8096.20823422,   4819.98939862, ...,\n",
       "         6548.46648003,  16124.46566739,  12426.46498605])"
      ]
     },
     "execution_count": 13,
     "metadata": {},
     "output_type": "execute_result"
    }
   ],
   "source": [
    "# y_test_vals = np.array([val[0] for val in y_test.values])"
   ]
  },
  {
   "cell_type": "code",
   "execution_count": 16,
   "metadata": {
    "collapsed": true
   },
   "outputs": [],
   "source": [
    "# pc_1_residuals = y_test_vals - en_pc_1.predict(X_test)"
   ]
  },
  {
   "cell_type": "code",
   "execution_count": null,
   "metadata": {
    "collapsed": true
   },
   "outputs": [],
   "source": [
    "# Now we need residuals of all the variables regressed against DNI"
   ]
  },
  {
   "cell_type": "code",
   "execution_count": 17,
   "metadata": {
    "scrolled": true
   },
   "outputs": [
    {
     "name": "stdout",
     "output_type": "stream",
     "text": [
      "splitting into X and y design matrices\n",
      "splitting into train and test\n"
     ]
    }
   ],
   "source": [
    "# formula = \"DNI ~ size_kw + azimuth1 + tilt1 + tech_1 + DHI + Wind_Speed + tracking_type\"\n",
    "\n",
    "# print 'splitting into X and y design matrices'\n",
    "# y, X = patsy.dmatrices(formula, df, return_type='dataframe')\n",
    "\n",
    "# scaler = StandardScaler()\n",
    "\n",
    "# X_scaled = pd.DataFrame(scaler.fit_transform(X))\n",
    "\n",
    "# # not using this, just doing a built in evaluation split.\n",
    "# print 'splitting into train and test'\n",
    "\n",
    "# X_train, X_test, y_train, y_test = train_test_split(X_scaled, y, train_size=.75, random_state=25)"
   ]
  },
  {
   "cell_type": "code",
   "execution_count": 19,
   "metadata": {
    "collapsed": true
   },
   "outputs": [],
   "source": [
    "# # just going to use the same parameters from the earlier elastic net model\n",
    "# en_pc_2 = ElasticNet(alpha=.08, l1_ratio=0.8)"
   ]
  },
  {
   "cell_type": "code",
   "execution_count": 20,
   "metadata": {},
   "outputs": [
    {
     "data": {
      "text/plain": [
       "ElasticNet(alpha=0.08, copy_X=True, fit_intercept=True, l1_ratio=0.8,\n",
       "      max_iter=1000, normalize=False, positive=False, precompute=False,\n",
       "      random_state=None, selection='cyclic', tol=0.0001, warm_start=False)"
      ]
     },
     "execution_count": 20,
     "metadata": {},
     "output_type": "execute_result"
    }
   ],
   "source": [
    "# en_pc_2.fit(X_train, y_train)"
   ]
  },
  {
   "cell_type": "code",
   "execution_count": 21,
   "metadata": {},
   "outputs": [
    {
     "data": {
      "text/plain": [
       "0.82137588088174662"
      ]
     },
     "execution_count": 21,
     "metadata": {},
     "output_type": "execute_result"
    }
   ],
   "source": [
    "# en_pc_2.score(X_test, y_test)"
   ]
  },
  {
   "cell_type": "code",
   "execution_count": 22,
   "metadata": {
    "collapsed": true
   },
   "outputs": [],
   "source": [
    "# y_test_vals_2 = np.array([val[0] for val in y_test.values])\n",
    "\n",
    "# pc_2_residuals = y_test_vals_2 - en_pc_2.predict(X_test)"
   ]
  },
  {
   "cell_type": "code",
   "execution_count": 23,
   "metadata": {
    "collapsed": true
   },
   "outputs": [],
   "source": [
    "# from scipy.stats import pearsonr"
   ]
  },
  {
   "cell_type": "code",
   "execution_count": 24,
   "metadata": {},
   "outputs": [
    {
     "data": {
      "text/plain": [
       "(-0.013302328599936315, 0.002747875584863003)"
      ]
     },
     "execution_count": 24,
     "metadata": {},
     "output_type": "execute_result"
    }
   ],
   "source": [
    "# pearsonr(pc_1_residuals, pc_2_residuals)"
   ]
  },
  {
   "cell_type": "markdown",
   "metadata": {},
   "source": [
    "### Regressing Against Output Without Size\n",
    "\n",
    "Want to see how well we can predict output without using size, and get a better idea of the affect of some of the features that are so heavily outweighed by size in other models."
   ]
  },
  {
   "cell_type": "code",
   "execution_count": 71,
   "metadata": {
    "collapsed": true
   },
   "outputs": [],
   "source": [
    "# from sklearn.preprocessing import MinMaxScaler"
   ]
  },
  {
   "cell_type": "code",
   "execution_count": 72,
   "metadata": {
    "collapsed": true
   },
   "outputs": [
    {
     "name": "stdout",
     "output_type": "stream",
     "text": [
      "splitting into X and y design matrices\n",
      "splitting into train and test\n"
     ]
    },
    {
     "name": "stderr",
     "output_type": "stream",
     "text": [
      "//anaconda/lib/python2.7/site-packages/sklearn/preprocessing/data.py:321: DeprecationWarning: Passing 1d arrays as data is deprecated in 0.17 and will raise ValueError in 0.19. Reshape your data either using X.reshape(-1, 1) if your data has a single feature or X.reshape(1, -1) if it contains a single sample.\n",
      "  warnings.warn(DEPRECATION_MSG_1D, DeprecationWarning)\n",
      "//anaconda/lib/python2.7/site-packages/sklearn/preprocessing/data.py:356: DeprecationWarning: Passing 1d arrays as data is deprecated in 0.17 and will raise ValueError in 0.19. Reshape your data either using X.reshape(-1, 1) if your data has a single feature or X.reshape(1, -1) if it contains a single sample.\n",
      "  warnings.warn(DEPRECATION_MSG_1D, DeprecationWarning)\n",
      "//anaconda/lib/python2.7/site-packages/sklearn/preprocessing/data.py:321: DeprecationWarning: Passing 1d arrays as data is deprecated in 0.17 and will raise ValueError in 0.19. Reshape your data either using X.reshape(-1, 1) if your data has a single feature or X.reshape(1, -1) if it contains a single sample.\n",
      "  warnings.warn(DEPRECATION_MSG_1D, DeprecationWarning)\n",
      "//anaconda/lib/python2.7/site-packages/sklearn/preprocessing/data.py:356: DeprecationWarning: Passing 1d arrays as data is deprecated in 0.17 and will raise ValueError in 0.19. Reshape your data either using X.reshape(-1, 1) if your data has a single feature or X.reshape(1, -1) if it contains a single sample.\n",
      "  warnings.warn(DEPRECATION_MSG_1D, DeprecationWarning)\n",
      "//anaconda/lib/python2.7/site-packages/sklearn/preprocessing/data.py:321: DeprecationWarning: Passing 1d arrays as data is deprecated in 0.17 and will raise ValueError in 0.19. Reshape your data either using X.reshape(-1, 1) if your data has a single feature or X.reshape(1, -1) if it contains a single sample.\n",
      "  warnings.warn(DEPRECATION_MSG_1D, DeprecationWarning)\n",
      "//anaconda/lib/python2.7/site-packages/sklearn/preprocessing/data.py:356: DeprecationWarning: Passing 1d arrays as data is deprecated in 0.17 and will raise ValueError in 0.19. Reshape your data either using X.reshape(-1, 1) if your data has a single feature or X.reshape(1, -1) if it contains a single sample.\n",
      "  warnings.warn(DEPRECATION_MSG_1D, DeprecationWarning)\n",
      "//anaconda/lib/python2.7/site-packages/sklearn/preprocessing/data.py:321: DeprecationWarning: Passing 1d arrays as data is deprecated in 0.17 and will raise ValueError in 0.19. Reshape your data either using X.reshape(-1, 1) if your data has a single feature or X.reshape(1, -1) if it contains a single sample.\n",
      "  warnings.warn(DEPRECATION_MSG_1D, DeprecationWarning)\n",
      "//anaconda/lib/python2.7/site-packages/sklearn/preprocessing/data.py:356: DeprecationWarning: Passing 1d arrays as data is deprecated in 0.17 and will raise ValueError in 0.19. Reshape your data either using X.reshape(-1, 1) if your data has a single feature or X.reshape(1, -1) if it contains a single sample.\n",
      "  warnings.warn(DEPRECATION_MSG_1D, DeprecationWarning)\n",
      "//anaconda/lib/python2.7/site-packages/sklearn/preprocessing/data.py:321: DeprecationWarning: Passing 1d arrays as data is deprecated in 0.17 and will raise ValueError in 0.19. Reshape your data either using X.reshape(-1, 1) if your data has a single feature or X.reshape(1, -1) if it contains a single sample.\n",
      "  warnings.warn(DEPRECATION_MSG_1D, DeprecationWarning)\n",
      "//anaconda/lib/python2.7/site-packages/sklearn/preprocessing/data.py:356: DeprecationWarning: Passing 1d arrays as data is deprecated in 0.17 and will raise ValueError in 0.19. Reshape your data either using X.reshape(-1, 1) if your data has a single feature or X.reshape(1, -1) if it contains a single sample.\n",
      "  warnings.warn(DEPRECATION_MSG_1D, DeprecationWarning)\n",
      "//anaconda/lib/python2.7/site-packages/sklearn/preprocessing/data.py:321: DeprecationWarning: Passing 1d arrays as data is deprecated in 0.17 and will raise ValueError in 0.19. Reshape your data either using X.reshape(-1, 1) if your data has a single feature or X.reshape(1, -1) if it contains a single sample.\n",
      "  warnings.warn(DEPRECATION_MSG_1D, DeprecationWarning)\n",
      "//anaconda/lib/python2.7/site-packages/sklearn/preprocessing/data.py:356: DeprecationWarning: Passing 1d arrays as data is deprecated in 0.17 and will raise ValueError in 0.19. Reshape your data either using X.reshape(-1, 1) if your data has a single feature or X.reshape(1, -1) if it contains a single sample.\n",
      "  warnings.warn(DEPRECATION_MSG_1D, DeprecationWarning)\n"
     ]
    }
   ],
   "source": [
    "# formula = \"reported_annual_energy_prod ~ azimuth1 + tilt1 + tech_1 + DHI + DNI + Wind_Speed + tracking_type\"\n",
    "\n",
    "# print 'splitting into X and y design matrices'\n",
    "# y, X = patsy.dmatrices(formula, df, return_type='dataframe')\n",
    "\n",
    "# scaler = MinMaxScaler()\n",
    "\n",
    "# X_scaled = X.copy()\n",
    "\n",
    "# for c in X.columns:\n",
    "#     if \"[\" not in c:\n",
    "#         X_scaled[c] = scaler.fit_transform(X[c].values)\n",
    "\n",
    "# # not using this, just doing a built in evaluation split.\n",
    "# print 'splitting into train and test'\n",
    "\n",
    "# X_train, X_test, y_train, y_test = train_test_split(X_scaled, y, train_size=.75, random_state=25)"
   ]
  },
  {
   "cell_type": "code",
   "execution_count": 73,
   "metadata": {},
   "outputs": [
    {
     "data": {
      "text/plain": [
       "LassoCV(alphas=None, copy_X=True, cv=None, eps=0.001, fit_intercept=True,\n",
       "    max_iter=1000, n_alphas=100, n_jobs=1, normalize=False, positive=False,\n",
       "    precompute='auto', random_state=None, selection='cyclic', tol=0.0001,\n",
       "    verbose=False)"
      ]
     },
     "execution_count": 73,
     "metadata": {},
     "output_type": "execute_result"
    }
   ],
   "source": [
    "# # Well that did incredibly badly.\n",
    "# lasso_cv = LassoCV()\n",
    "# lasso_cv.fit(X_train, y_train)"
   ]
  },
  {
   "cell_type": "code",
   "execution_count": 74,
   "metadata": {},
   "outputs": [
    {
     "data": {
      "text/plain": [
       "0.0031269992983831152"
      ]
     },
     "execution_count": 74,
     "metadata": {},
     "output_type": "execute_result"
    }
   ],
   "source": [
    "# lasso_cv.score(X_test, y_test)"
   ]
  },
  {
   "cell_type": "code",
   "execution_count": 75,
   "metadata": {},
   "outputs": [
    {
     "data": {
      "text/plain": [
       "Lasso(alpha=1.478029412624295, copy_X=True, fit_intercept=True, max_iter=1000,\n",
       "   normalize=False, positive=False, precompute=False, random_state=None,\n",
       "   selection='cyclic', tol=0.0001, warm_start=False)"
      ]
     },
     "execution_count": 75,
     "metadata": {},
     "output_type": "execute_result"
    }
   ],
   "source": [
    "# lasso = Lasso(alpha=lasso_cv.alpha_)\n",
    "# lasso.fit(X_train, y_train)"
   ]
  },
  {
   "cell_type": "code",
   "execution_count": 76,
   "metadata": {},
   "outputs": [
    {
     "data": {
      "text/plain": [
       "<matplotlib.text.Text at 0x116b67850>"
      ]
     },
     "execution_count": 76,
     "metadata": {},
     "output_type": "execute_result"
    },
    {
     "data": {
      "image/png": "[encoded data removed]",
      "text/plain": [
       "<matplotlib.figure.Figure at 0x11a2473d0>"
      ]
     },
     "metadata": {},
     "output_type": "display_data"
    }
   ],
   "source": [
    "# # plotting Lasso coefficients, in standard deviation scale.\n",
    "\n",
    "\n",
    "# coefs = pd.DataFrame({\n",
    "#     'feature': X.columns,\n",
    "#     'coefficient': lasso.coef_,\n",
    "#     'abs_coef': np.abs(lasso.coef_)\n",
    "# })\n",
    "\n",
    "# coefs.sort_values('abs_coef', inplace=True, ascending=False)\n",
    "\n",
    "# plt.figure(figsize=(7,10))\n",
    "# sns.barplot(x=coefs.coefficient.head(19), y=coefs.feature.head(19), orient='h')\n",
    "# plt.title(\"Lasso Coefficients, No Size KW\")"
   ]
  },
  {
   "cell_type": "code",
   "execution_count": 77,
   "metadata": {},
   "outputs": [
    {
     "data": {
      "text/plain": [
       "0.0031269992983831152"
      ]
     },
     "execution_count": 77,
     "metadata": {},
     "output_type": "execute_result"
    }
   ],
   "source": [
    "# lasso.score(X_test, y_test)"
   ]
  },
  {
   "cell_type": "markdown",
   "metadata": {
    "collapsed": true
   },
   "source": [
    "### Outlier stuff"
   ]
  },
  {
   "cell_type": "code",
   "execution_count": 27,
   "metadata": {
    "collapsed": true
   },
   "outputs": [],
   "source": [
    "# import matplotlib.pyplot as plt\n",
    "# import seaborn as sns\n",
    "\n",
    "# %matplotlib inline"
   ]
  },
  {
   "cell_type": "code",
   "execution_count": 28,
   "metadata": {},
   "outputs": [
    {
     "data": {
      "text/plain": [
       "<matplotlib.collections.PathCollection at 0x117bc0450>"
      ]
     },
     "execution_count": 28,
     "metadata": {},
     "output_type": "execute_result"
    },
    {
     "data": {
      "image/png": "[encoded data removed]",
      "text/plain": [
       "<matplotlib.figure.Figure at 0x1053dbe50>"
      ]
     },
     "metadata": {},
     "output_type": "display_data"
    }
   ],
   "source": [
    "# There's a huge outlier here.\n",
    "\n",
    "# plt.scatter(X_test.size_kw, y_test)"
   ]
  },
  {
   "cell_type": "code",
   "execution_count": 31,
   "metadata": {
    "collapsed": true
   },
   "outputs": [
    {
     "data": {
      "text/html": [
       "<div>\n",
       "<style>\n",
       "    .dataframe thead tr:only-child th {\n",
       "        text-align: right;\n",
       "    }\n",
       "\n",
       "    .dataframe thead th {\n",
       "        text-align: left;\n",
       "    }\n",
       "\n",
       "    .dataframe tbody tr th {\n",
       "        vertical-align: top;\n",
       "    }\n",
       "</style>\n",
       "<table border=\"1\" class=\"dataframe\">\n",
       "  <thead>\n",
       "    <tr style=\"text-align: right;\">\n",
       "      <th></th>\n",
       "      <th>reported_annual_energy_prod</th>\n",
       "    </tr>\n",
       "  </thead>\n",
       "  <tbody>\n",
       "    <tr>\n",
       "      <th>436695</th>\n",
       "      <td>3.500000e+07</td>\n",
       "    </tr>\n",
       "    <tr>\n",
       "      <th>442040</th>\n",
       "      <td>8.205000e+06</td>\n",
       "    </tr>\n",
       "    <tr>\n",
       "      <th>431983</th>\n",
       "      <td>7.847000e+06</td>\n",
       "    </tr>\n",
       "    <tr>\n",
       "      <th>426115</th>\n",
       "      <td>7.735000e+06</td>\n",
       "    </tr>\n",
       "    <tr>\n",
       "      <th>445163</th>\n",
       "      <td>7.551000e+06</td>\n",
       "    </tr>\n",
       "    <tr>\n",
       "      <th>425685</th>\n",
       "      <td>7.518734e+06</td>\n",
       "    </tr>\n",
       "    <tr>\n",
       "      <th>442762</th>\n",
       "      <td>6.743125e+06</td>\n",
       "    </tr>\n",
       "    <tr>\n",
       "      <th>772975</th>\n",
       "      <td>6.632955e+06</td>\n",
       "    </tr>\n",
       "    <tr>\n",
       "      <th>461770</th>\n",
       "      <td>6.578451e+06</td>\n",
       "    </tr>\n",
       "    <tr>\n",
       "      <th>452292</th>\n",
       "      <td>6.290689e+06</td>\n",
       "    </tr>\n",
       "    <tr>\n",
       "      <th>38171</th>\n",
       "      <td>5.967588e+06</td>\n",
       "    </tr>\n",
       "    <tr>\n",
       "      <th>774958</th>\n",
       "      <td>5.900000e+06</td>\n",
       "    </tr>\n",
       "    <tr>\n",
       "      <th>434192</th>\n",
       "      <td>5.381985e+06</td>\n",
       "    </tr>\n",
       "    <tr>\n",
       "      <th>439487</th>\n",
       "      <td>5.358846e+06</td>\n",
       "    </tr>\n",
       "    <tr>\n",
       "      <th>451797</th>\n",
       "      <td>5.325400e+06</td>\n",
       "    </tr>\n",
       "    <tr>\n",
       "      <th>751604</th>\n",
       "      <td>5.070700e+06</td>\n",
       "    </tr>\n",
       "    <tr>\n",
       "      <th>774845</th>\n",
       "      <td>5.070000e+06</td>\n",
       "    </tr>\n",
       "    <tr>\n",
       "      <th>466757</th>\n",
       "      <td>4.872000e+06</td>\n",
       "    </tr>\n",
       "    <tr>\n",
       "      <th>771302</th>\n",
       "      <td>4.810970e+06</td>\n",
       "    </tr>\n",
       "    <tr>\n",
       "      <th>431527</th>\n",
       "      <td>4.666742e+06</td>\n",
       "    </tr>\n",
       "    <tr>\n",
       "      <th>778460</th>\n",
       "      <td>4.644159e+06</td>\n",
       "    </tr>\n",
       "    <tr>\n",
       "      <th>442033</th>\n",
       "      <td>4.532900e+06</td>\n",
       "    </tr>\n",
       "    <tr>\n",
       "      <th>774869</th>\n",
       "      <td>4.289000e+06</td>\n",
       "    </tr>\n",
       "    <tr>\n",
       "      <th>443940</th>\n",
       "      <td>4.199000e+06</td>\n",
       "    </tr>\n",
       "    <tr>\n",
       "      <th>539359</th>\n",
       "      <td>4.047662e+06</td>\n",
       "    </tr>\n",
       "    <tr>\n",
       "      <th>424469</th>\n",
       "      <td>3.869000e+06</td>\n",
       "    </tr>\n",
       "    <tr>\n",
       "      <th>452804</th>\n",
       "      <td>3.842129e+06</td>\n",
       "    </tr>\n",
       "    <tr>\n",
       "      <th>620684</th>\n",
       "      <td>3.456000e+06</td>\n",
       "    </tr>\n",
       "    <tr>\n",
       "      <th>711918</th>\n",
       "      <td>3.400000e+06</td>\n",
       "    </tr>\n",
       "    <tr>\n",
       "      <th>135664</th>\n",
       "      <td>3.386880e+06</td>\n",
       "    </tr>\n",
       "    <tr>\n",
       "      <th>...</th>\n",
       "      <td>...</td>\n",
       "    </tr>\n",
       "    <tr>\n",
       "      <th>786761</th>\n",
       "      <td>1.850000e+02</td>\n",
       "    </tr>\n",
       "    <tr>\n",
       "      <th>522621</th>\n",
       "      <td>1.810000e+02</td>\n",
       "    </tr>\n",
       "    <tr>\n",
       "      <th>469238</th>\n",
       "      <td>1.637591e+02</td>\n",
       "    </tr>\n",
       "    <tr>\n",
       "      <th>410224</th>\n",
       "      <td>1.486000e+02</td>\n",
       "    </tr>\n",
       "    <tr>\n",
       "      <th>548793</th>\n",
       "      <td>1.406250e+02</td>\n",
       "    </tr>\n",
       "    <tr>\n",
       "      <th>548792</th>\n",
       "      <td>1.406250e+02</td>\n",
       "    </tr>\n",
       "    <tr>\n",
       "      <th>492417</th>\n",
       "      <td>1.350000e+02</td>\n",
       "    </tr>\n",
       "    <tr>\n",
       "      <th>454301</th>\n",
       "      <td>1.266000e+02</td>\n",
       "    </tr>\n",
       "    <tr>\n",
       "      <th>492055</th>\n",
       "      <td>1.248750e+02</td>\n",
       "    </tr>\n",
       "    <tr>\n",
       "      <th>492054</th>\n",
       "      <td>1.248750e+02</td>\n",
       "    </tr>\n",
       "    <tr>\n",
       "      <th>548751</th>\n",
       "      <td>1.125000e+02</td>\n",
       "    </tr>\n",
       "    <tr>\n",
       "      <th>548908</th>\n",
       "      <td>1.125000e+02</td>\n",
       "    </tr>\n",
       "    <tr>\n",
       "      <th>494695</th>\n",
       "      <td>1.100000e+02</td>\n",
       "    </tr>\n",
       "    <tr>\n",
       "      <th>548749</th>\n",
       "      <td>1.040625e+02</td>\n",
       "    </tr>\n",
       "    <tr>\n",
       "      <th>425457</th>\n",
       "      <td>8.879700e+01</td>\n",
       "    </tr>\n",
       "    <tr>\n",
       "      <th>776538</th>\n",
       "      <td>7.222000e+01</td>\n",
       "    </tr>\n",
       "    <tr>\n",
       "      <th>775847</th>\n",
       "      <td>5.376000e+01</td>\n",
       "    </tr>\n",
       "    <tr>\n",
       "      <th>492155</th>\n",
       "      <td>5.062500e+01</td>\n",
       "    </tr>\n",
       "    <tr>\n",
       "      <th>492154</th>\n",
       "      <td>5.062500e+01</td>\n",
       "    </tr>\n",
       "    <tr>\n",
       "      <th>430925</th>\n",
       "      <td>4.608000e+01</td>\n",
       "    </tr>\n",
       "    <tr>\n",
       "      <th>699571</th>\n",
       "      <td>4.270000e+01</td>\n",
       "    </tr>\n",
       "    <tr>\n",
       "      <th>464896</th>\n",
       "      <td>2.587000e+01</td>\n",
       "    </tr>\n",
       "    <tr>\n",
       "      <th>645402</th>\n",
       "      <td>1.800000e+01</td>\n",
       "    </tr>\n",
       "    <tr>\n",
       "      <th>460087</th>\n",
       "      <td>9.749000e+00</td>\n",
       "    </tr>\n",
       "    <tr>\n",
       "      <th>568063</th>\n",
       "      <td>8.000000e+00</td>\n",
       "    </tr>\n",
       "    <tr>\n",
       "      <th>698738</th>\n",
       "      <td>7.500000e+00</td>\n",
       "    </tr>\n",
       "    <tr>\n",
       "      <th>407428</th>\n",
       "      <td>6.798000e+00</td>\n",
       "    </tr>\n",
       "    <tr>\n",
       "      <th>775611</th>\n",
       "      <td>3.600000e+00</td>\n",
       "    </tr>\n",
       "    <tr>\n",
       "      <th>440538</th>\n",
       "      <td>2.700000e+00</td>\n",
       "    </tr>\n",
       "    <tr>\n",
       "      <th>444508</th>\n",
       "      <td>2.668500e+00</td>\n",
       "    </tr>\n",
       "  </tbody>\n",
       "</table>\n",
       "<p>50692 rows × 1 columns</p>\n",
       "</div>"
      ],
      "text/plain": [
       "        reported_annual_energy_prod\n",
       "436695                 3.500000e+07\n",
       "442040                 8.205000e+06\n",
       "431983                 7.847000e+06\n",
       "426115                 7.735000e+06\n",
       "445163                 7.551000e+06\n",
       "425685                 7.518734e+06\n",
       "442762                 6.743125e+06\n",
       "772975                 6.632955e+06\n",
       "461770                 6.578451e+06\n",
       "452292                 6.290689e+06\n",
       "38171                  5.967588e+06\n",
       "774958                 5.900000e+06\n",
       "434192                 5.381985e+06\n",
       "439487                 5.358846e+06\n",
       "451797                 5.325400e+06\n",
       "751604                 5.070700e+06\n",
       "774845                 5.070000e+06\n",
       "466757                 4.872000e+06\n",
       "771302                 4.810970e+06\n",
       "431527                 4.666742e+06\n",
       "778460                 4.644159e+06\n",
       "442033                 4.532900e+06\n",
       "774869                 4.289000e+06\n",
       "443940                 4.199000e+06\n",
       "539359                 4.047662e+06\n",
       "424469                 3.869000e+06\n",
       "452804                 3.842129e+06\n",
       "620684                 3.456000e+06\n",
       "711918                 3.400000e+06\n",
       "135664                 3.386880e+06\n",
       "...                             ...\n",
       "786761                 1.850000e+02\n",
       "522621                 1.810000e+02\n",
       "469238                 1.637591e+02\n",
       "410224                 1.486000e+02\n",
       "548793                 1.406250e+02\n",
       "548792                 1.406250e+02\n",
       "492417                 1.350000e+02\n",
       "454301                 1.266000e+02\n",
       "492055                 1.248750e+02\n",
       "492054                 1.248750e+02\n",
       "548751                 1.125000e+02\n",
       "548908                 1.125000e+02\n",
       "494695                 1.100000e+02\n",
       "548749                 1.040625e+02\n",
       "425457                 8.879700e+01\n",
       "776538                 7.222000e+01\n",
       "775847                 5.376000e+01\n",
       "492155                 5.062500e+01\n",
       "492154                 5.062500e+01\n",
       "430925                 4.608000e+01\n",
       "699571                 4.270000e+01\n",
       "464896                 2.587000e+01\n",
       "645402                 1.800000e+01\n",
       "460087                 9.749000e+00\n",
       "568063                 8.000000e+00\n",
       "698738                 7.500000e+00\n",
       "407428                 6.798000e+00\n",
       "775611                 3.600000e+00\n",
       "440538                 2.700000e+00\n",
       "444508                 2.668500e+00\n",
       "\n",
       "[50692 rows x 1 columns]"
      ]
     },
     "execution_count": 31,
     "metadata": {},
     "output_type": "execute_result"
    }
   ],
   "source": [
    "# y_test.sort_values('reported_annual_energy_prod', ascending=False)"
   ]
  },
  {
   "cell_type": "code",
   "execution_count": 29,
   "metadata": {},
   "outputs": [
    {
     "data": {
      "text/plain": [
       "Index([u'reported_annual_energy_prod'], dtype='object')"
      ]
     },
     "execution_count": 29,
     "metadata": {},
     "output_type": "execute_result"
    }
   ],
   "source": [
    "# y.columns"
   ]
  },
  {
   "cell_type": "code",
   "execution_count": 30,
   "metadata": {},
   "outputs": [
    {
     "data": {
      "text/plain": [
       "pandas.core.frame.DataFrame"
      ]
     },
     "execution_count": 30,
     "metadata": {},
     "output_type": "execute_result"
    }
   ],
   "source": [
    "# type(y_test)"
   ]
  },
  {
   "cell_type": "code",
   "execution_count": 36,
   "metadata": {
    "collapsed": true
   },
   "outputs": [
    {
     "data": {
      "text/html": [
       "<div>\n",
       "<style>\n",
       "    .dataframe thead tr:only-child th {\n",
       "        text-align: right;\n",
       "    }\n",
       "\n",
       "    .dataframe thead th {\n",
       "        text-align: left;\n",
       "    }\n",
       "\n",
       "    .dataframe tbody tr th {\n",
       "        vertical-align: top;\n",
       "    }\n",
       "</style>\n",
       "<table border=\"1\" class=\"dataframe\">\n",
       "  <thead>\n",
       "    <tr style=\"text-align: right;\">\n",
       "      <th></th>\n",
       "      <th>state</th>\n",
       "      <th>incentive_prog_names</th>\n",
       "      <th>type</th>\n",
       "      <th>size_kw</th>\n",
       "      <th>appraised</th>\n",
       "      <th>zipcode</th>\n",
       "      <th>install_type</th>\n",
       "      <th>installer</th>\n",
       "      <th>cost</th>\n",
       "      <th>utility_clean</th>\n",
       "      <th>...</th>\n",
       "      <th>third_party</th>\n",
       "      <th>bipv</th>\n",
       "      <th>year_installed</th>\n",
       "      <th>DHI</th>\n",
       "      <th>DNI</th>\n",
       "      <th>GHI</th>\n",
       "      <th>Solar_Zenith_Angle</th>\n",
       "      <th>Temperature</th>\n",
       "      <th>Wind_Speed</th>\n",
       "      <th>Zipcode</th>\n",
       "    </tr>\n",
       "  </thead>\n",
       "  <tbody>\n",
       "    <tr>\n",
       "      <th>145973</th>\n",
       "      <td>AZ</td>\n",
       "      <td>Arizona Public Service</td>\n",
       "      <td>uir</td>\n",
       "      <td>18000.0</td>\n",
       "      <td>0.0</td>\n",
       "      <td>86321</td>\n",
       "      <td>residential</td>\n",
       "      <td>SolarCity</td>\n",
       "      <td>7.369182e+07</td>\n",
       "      <td>Arizona Public Service</td>\n",
       "      <td>...</td>\n",
       "      <td>0.0</td>\n",
       "      <td>0.0</td>\n",
       "      <td>2011.0</td>\n",
       "      <td>55.154909</td>\n",
       "      <td>301.173402</td>\n",
       "      <td>232.856963</td>\n",
       "      <td>89.715297</td>\n",
       "      <td>19.075935</td>\n",
       "      <td>2.602529</td>\n",
       "      <td>86321</td>\n",
       "    </tr>\n",
       "    <tr>\n",
       "      <th>436695</th>\n",
       "      <td>MA</td>\n",
       "      <td>Massachusetts Department of Energy Resources</td>\n",
       "      <td>uir</td>\n",
       "      <td>3493.6</td>\n",
       "      <td>0.0</td>\n",
       "      <td>1331</td>\n",
       "      <td>commercial</td>\n",
       "      <td>Epcse Solar Corp</td>\n",
       "      <td>1.256500e+07</td>\n",
       "      <td>National Grid</td>\n",
       "      <td>...</td>\n",
       "      <td>0.0</td>\n",
       "      <td>0.0</td>\n",
       "      <td>2013.0</td>\n",
       "      <td>63.192123</td>\n",
       "      <td>198.892580</td>\n",
       "      <td>169.642123</td>\n",
       "      <td>89.682661</td>\n",
       "      <td>8.675551</td>\n",
       "      <td>0.895853</td>\n",
       "      <td>1331</td>\n",
       "    </tr>\n",
       "  </tbody>\n",
       "</table>\n",
       "<p>2 rows × 29 columns</p>\n",
       "</div>"
      ],
      "text/plain": [
       "       state                          incentive_prog_names type  size_kw  \\\n",
       "145973    AZ                        Arizona Public Service  uir  18000.0   \n",
       "436695    MA  Massachusetts Department of Energy Resources  uir   3493.6   \n",
       "\n",
       "        appraised zipcode install_type         installer          cost  \\\n",
       "145973        0.0   86321  residential         SolarCity  7.369182e+07   \n",
       "436695        0.0    1331   commercial  Epcse Solar Corp  1.256500e+07   \n",
       "\n",
       "                 utility_clean   ...    third_party  bipv  year_installed  \\\n",
       "145973  Arizona Public Service   ...            0.0   0.0          2011.0   \n",
       "436695           National Grid   ...            0.0   0.0          2013.0   \n",
       "\n",
       "              DHI         DNI         GHI  Solar_Zenith_Angle  Temperature  \\\n",
       "145973  55.154909  301.173402  232.856963           89.715297    19.075935   \n",
       "436695  63.192123  198.892580  169.642123           89.682661     8.675551   \n",
       "\n",
       "        Wind_Speed  Zipcode  \n",
       "145973    2.602529    86321  \n",
       "436695    0.895853     1331  \n",
       "\n",
       "[2 rows x 29 columns]"
      ]
     },
     "execution_count": 36,
     "metadata": {},
     "output_type": "execute_result"
    }
   ],
   "source": [
    "# df.loc[df['reported_annual_energy_prod'] > 1*10**7]"
   ]
  },
  {
   "cell_type": "code",
   "execution_count": 37,
   "metadata": {
    "collapsed": true
   },
   "outputs": [
    {
     "data": {
      "text/plain": [
       "state                                              AZ\n",
       "incentive_prog_names           Arizona Public Service\n",
       "type                                              uir\n",
       "size_kw                                         18000\n",
       "appraised                                           0\n",
       "zipcode                                         86321\n",
       "install_type                              residential\n",
       "installer                                   SolarCity\n",
       "cost                                      7.36918e+07\n",
       "utility_clean                  Arizona Public Service\n",
       "tech_1                                        no_tech\n",
       "annual_PV_prod                            3.06305e+07\n",
       "rebate                                              0\n",
       "tilt1                                              22\n",
       "tracking_type                             no_tracking\n",
       "azimuth1                                          180\n",
       "reported_annual_energy_prod                   2.7e+07\n",
       "new_constr                                          0\n",
       "tracking                                            0\n",
       "third_party                                         0\n",
       "bipv                                                0\n",
       "year_installed                                   2011\n",
       "DHI                                           55.1549\n",
       "DNI                                           301.173\n",
       "GHI                                           232.857\n",
       "Solar_Zenith_Angle                            89.7153\n",
       "Temperature                                   19.0759\n",
       "Wind_Speed                                    2.60253\n",
       "Zipcode                                         86321\n",
       "Name: 145973, dtype: object"
      ]
     },
     "execution_count": 37,
     "metadata": {},
     "output_type": "execute_result"
    }
   ],
   "source": [
    "# df.iloc[145973, :]"
   ]
  },
  {
   "cell_type": "code",
   "execution_count": 43,
   "metadata": {
    "collapsed": true
   },
   "outputs": [
    {
     "data": {
      "text/html": [
       "<div>\n",
       "<style>\n",
       "    .dataframe thead tr:only-child th {\n",
       "        text-align: right;\n",
       "    }\n",
       "\n",
       "    .dataframe thead th {\n",
       "        text-align: left;\n",
       "    }\n",
       "\n",
       "    .dataframe tbody tr th {\n",
       "        vertical-align: top;\n",
       "    }\n",
       "</style>\n",
       "<table border=\"1\" class=\"dataframe\">\n",
       "  <thead>\n",
       "    <tr style=\"text-align: right;\">\n",
       "      <th></th>\n",
       "      <th>state</th>\n",
       "      <th>incentive_prog_names</th>\n",
       "      <th>type</th>\n",
       "      <th>size_kw</th>\n",
       "      <th>appraised</th>\n",
       "      <th>zipcode</th>\n",
       "      <th>install_type</th>\n",
       "      <th>installer</th>\n",
       "      <th>cost</th>\n",
       "      <th>utility_clean</th>\n",
       "      <th>...</th>\n",
       "      <th>third_party</th>\n",
       "      <th>bipv</th>\n",
       "      <th>year_installed</th>\n",
       "      <th>DHI</th>\n",
       "      <th>DNI</th>\n",
       "      <th>GHI</th>\n",
       "      <th>Solar_Zenith_Angle</th>\n",
       "      <th>Temperature</th>\n",
       "      <th>Wind_Speed</th>\n",
       "      <th>Zipcode</th>\n",
       "    </tr>\n",
       "  </thead>\n",
       "  <tbody>\n",
       "    <tr>\n",
       "      <th>414240</th>\n",
       "      <td>MA</td>\n",
       "      <td>Massachusetts Clean Energy Center</td>\n",
       "      <td>uir</td>\n",
       "      <td>3580.720</td>\n",
       "      <td>0.0</td>\n",
       "      <td>2093</td>\n",
       "      <td>nonprofit</td>\n",
       "      <td>Florence Electric</td>\n",
       "      <td>7.855127e+06</td>\n",
       "      <td>National Grid</td>\n",
       "      <td>...</td>\n",
       "      <td>1.0</td>\n",
       "      <td>0.0</td>\n",
       "      <td>2013.0</td>\n",
       "      <td>64.018607</td>\n",
       "      <td>195.797945</td>\n",
       "      <td>169.773174</td>\n",
       "      <td>89.684537</td>\n",
       "      <td>10.425683</td>\n",
       "      <td>0.882835</td>\n",
       "      <td>2093</td>\n",
       "    </tr>\n",
       "    <tr>\n",
       "      <th>433871</th>\n",
       "      <td>MA</td>\n",
       "      <td>Massachusetts Department of Energy Resources</td>\n",
       "      <td>uir</td>\n",
       "      <td>1287.000</td>\n",
       "      <td>0.0</td>\n",
       "      <td>1844</td>\n",
       "      <td>commercial</td>\n",
       "      <td>Borrego Solar</td>\n",
       "      <td>4.697551e+06</td>\n",
       "      <td>National Grid</td>\n",
       "      <td>...</td>\n",
       "      <td>0.0</td>\n",
       "      <td>0.0</td>\n",
       "      <td>2013.0</td>\n",
       "      <td>61.994521</td>\n",
       "      <td>202.102740</td>\n",
       "      <td>170.576027</td>\n",
       "      <td>89.682099</td>\n",
       "      <td>9.814643</td>\n",
       "      <td>0.889159</td>\n",
       "      <td>1844</td>\n",
       "    </tr>\n",
       "    <tr>\n",
       "      <th>434192</th>\n",
       "      <td>MA</td>\n",
       "      <td>Massachusetts Clean Energy Center</td>\n",
       "      <td>uir</td>\n",
       "      <td>1287.000</td>\n",
       "      <td>0.0</td>\n",
       "      <td>1844</td>\n",
       "      <td>commercial</td>\n",
       "      <td>Borrego Solar</td>\n",
       "      <td>4.697551e+06</td>\n",
       "      <td>National Grid</td>\n",
       "      <td>...</td>\n",
       "      <td>0.0</td>\n",
       "      <td>0.0</td>\n",
       "      <td>2013.0</td>\n",
       "      <td>61.994521</td>\n",
       "      <td>202.102740</td>\n",
       "      <td>170.576027</td>\n",
       "      <td>89.682099</td>\n",
       "      <td>9.814643</td>\n",
       "      <td>0.889159</td>\n",
       "      <td>1844</td>\n",
       "    </tr>\n",
       "    <tr>\n",
       "      <th>436695</th>\n",
       "      <td>MA</td>\n",
       "      <td>Massachusetts Department of Energy Resources</td>\n",
       "      <td>uir</td>\n",
       "      <td>3493.600</td>\n",
       "      <td>0.0</td>\n",
       "      <td>1331</td>\n",
       "      <td>commercial</td>\n",
       "      <td>Epcse Solar Corp</td>\n",
       "      <td>1.256500e+07</td>\n",
       "      <td>National Grid</td>\n",
       "      <td>...</td>\n",
       "      <td>0.0</td>\n",
       "      <td>0.0</td>\n",
       "      <td>2013.0</td>\n",
       "      <td>63.192123</td>\n",
       "      <td>198.892580</td>\n",
       "      <td>169.642123</td>\n",
       "      <td>89.682661</td>\n",
       "      <td>8.675551</td>\n",
       "      <td>0.895853</td>\n",
       "      <td>1331</td>\n",
       "    </tr>\n",
       "    <tr>\n",
       "      <th>442762</th>\n",
       "      <td>MA</td>\n",
       "      <td>Massachusetts Department of Energy Resources</td>\n",
       "      <td>uir</td>\n",
       "      <td>3443.365</td>\n",
       "      <td>0.0</td>\n",
       "      <td>1462</td>\n",
       "      <td>residential</td>\n",
       "      <td>IESI, Inc</td>\n",
       "      <td>1.410869e+07</td>\n",
       "      <td>Unitil</td>\n",
       "      <td>...</td>\n",
       "      <td>1.0</td>\n",
       "      <td>0.0</td>\n",
       "      <td>2014.0</td>\n",
       "      <td>62.824087</td>\n",
       "      <td>200.198288</td>\n",
       "      <td>169.991781</td>\n",
       "      <td>89.682671</td>\n",
       "      <td>9.049544</td>\n",
       "      <td>0.895853</td>\n",
       "      <td>1462</td>\n",
       "    </tr>\n",
       "    <tr>\n",
       "      <th>620816</th>\n",
       "      <td>CA</td>\n",
       "      <td>Imperial Irrigation District</td>\n",
       "      <td>uir</td>\n",
       "      <td>400.000</td>\n",
       "      <td>0.0</td>\n",
       "      <td>92231</td>\n",
       "      <td>residential</td>\n",
       "      <td>SolarCity</td>\n",
       "      <td>1.651601e+06</td>\n",
       "      <td>Imperial Irrigation District</td>\n",
       "      <td>...</td>\n",
       "      <td>0.0</td>\n",
       "      <td>0.0</td>\n",
       "      <td>2011.0</td>\n",
       "      <td>52.784132</td>\n",
       "      <td>317.561187</td>\n",
       "      <td>245.184247</td>\n",
       "      <td>89.723793</td>\n",
       "      <td>23.820224</td>\n",
       "      <td>2.524194</td>\n",
       "      <td>92231</td>\n",
       "    </tr>\n",
       "    <tr>\n",
       "      <th>621181</th>\n",
       "      <td>CA</td>\n",
       "      <td>Imperial Irrigation District</td>\n",
       "      <td>uir</td>\n",
       "      <td>400.000</td>\n",
       "      <td>0.0</td>\n",
       "      <td>92243</td>\n",
       "      <td>residential</td>\n",
       "      <td>SolarCity</td>\n",
       "      <td>1.651601e+06</td>\n",
       "      <td>Imperial Irrigation District</td>\n",
       "      <td>...</td>\n",
       "      <td>0.0</td>\n",
       "      <td>0.0</td>\n",
       "      <td>2011.0</td>\n",
       "      <td>53.166438</td>\n",
       "      <td>315.838356</td>\n",
       "      <td>243.658676</td>\n",
       "      <td>89.723408</td>\n",
       "      <td>23.632665</td>\n",
       "      <td>2.656314</td>\n",
       "      <td>92243</td>\n",
       "    </tr>\n",
       "    <tr>\n",
       "      <th>621417</th>\n",
       "      <td>CA</td>\n",
       "      <td>Imperial Irrigation District</td>\n",
       "      <td>uir</td>\n",
       "      <td>400.000</td>\n",
       "      <td>0.0</td>\n",
       "      <td>92253</td>\n",
       "      <td>residential</td>\n",
       "      <td>SolarCity</td>\n",
       "      <td>1.651601e+06</td>\n",
       "      <td>Imperial Irrigation District</td>\n",
       "      <td>...</td>\n",
       "      <td>0.0</td>\n",
       "      <td>0.0</td>\n",
       "      <td>2011.0</td>\n",
       "      <td>53.451826</td>\n",
       "      <td>311.637900</td>\n",
       "      <td>241.055023</td>\n",
       "      <td>89.719246</td>\n",
       "      <td>20.921113</td>\n",
       "      <td>2.838593</td>\n",
       "      <td>92253</td>\n",
       "    </tr>\n",
       "  </tbody>\n",
       "</table>\n",
       "<p>8 rows × 29 columns</p>\n",
       "</div>"
      ],
      "text/plain": [
       "       state                          incentive_prog_names type   size_kw  \\\n",
       "414240    MA             Massachusetts Clean Energy Center  uir  3580.720   \n",
       "433871    MA  Massachusetts Department of Energy Resources  uir  1287.000   \n",
       "434192    MA             Massachusetts Clean Energy Center  uir  1287.000   \n",
       "436695    MA  Massachusetts Department of Energy Resources  uir  3493.600   \n",
       "442762    MA  Massachusetts Department of Energy Resources  uir  3443.365   \n",
       "620816    CA                  Imperial Irrigation District  uir   400.000   \n",
       "621181    CA                  Imperial Irrigation District  uir   400.000   \n",
       "621417    CA                  Imperial Irrigation District  uir   400.000   \n",
       "\n",
       "        appraised zipcode install_type          installer          cost  \\\n",
       "414240        0.0    2093    nonprofit  Florence Electric  7.855127e+06   \n",
       "433871        0.0    1844   commercial      Borrego Solar  4.697551e+06   \n",
       "434192        0.0    1844   commercial      Borrego Solar  4.697551e+06   \n",
       "436695        0.0    1331   commercial   Epcse Solar Corp  1.256500e+07   \n",
       "442762        0.0    1462  residential          IESI, Inc  1.410869e+07   \n",
       "620816        0.0   92231  residential          SolarCity  1.651601e+06   \n",
       "621181        0.0   92243  residential          SolarCity  1.651601e+06   \n",
       "621417        0.0   92253  residential          SolarCity  1.651601e+06   \n",
       "\n",
       "                       utility_clean   ...    third_party  bipv  \\\n",
       "414240                 National Grid   ...            1.0   0.0   \n",
       "433871                 National Grid   ...            0.0   0.0   \n",
       "434192                 National Grid   ...            0.0   0.0   \n",
       "436695                 National Grid   ...            0.0   0.0   \n",
       "442762                        Unitil   ...            1.0   0.0   \n",
       "620816  Imperial Irrigation District   ...            0.0   0.0   \n",
       "621181  Imperial Irrigation District   ...            0.0   0.0   \n",
       "621417  Imperial Irrigation District   ...            0.0   0.0   \n",
       "\n",
       "        year_installed        DHI         DNI         GHI  Solar_Zenith_Angle  \\\n",
       "414240          2013.0  64.018607  195.797945  169.773174           89.684537   \n",
       "433871          2013.0  61.994521  202.102740  170.576027           89.682099   \n",
       "434192          2013.0  61.994521  202.102740  170.576027           89.682099   \n",
       "436695          2013.0  63.192123  198.892580  169.642123           89.682661   \n",
       "442762          2014.0  62.824087  200.198288  169.991781           89.682671   \n",
       "620816          2011.0  52.784132  317.561187  245.184247           89.723793   \n",
       "621181          2011.0  53.166438  315.838356  243.658676           89.723408   \n",
       "621417          2011.0  53.451826  311.637900  241.055023           89.719246   \n",
       "\n",
       "        Temperature  Wind_Speed  Zipcode  \n",
       "414240    10.425683    0.882835     2093  \n",
       "433871     9.814643    0.889159     1844  \n",
       "434192     9.814643    0.889159     1844  \n",
       "436695     8.675551    0.895853     1331  \n",
       "442762     9.049544    0.895853     1462  \n",
       "620816    23.820224    2.524194    92231  \n",
       "621181    23.632665    2.656314    92243  \n",
       "621417    20.921113    2.838593    92253  \n",
       "\n",
       "[8 rows x 29 columns]"
      ]
     },
     "execution_count": 43,
     "metadata": {},
     "output_type": "execute_result"
    }
   ],
   "source": [
    "# # I'm going to eliminate these rows as outliers, they're overreporting how much energy they're producing.\n",
    "\n",
    "# df.loc[df['reported_annual_energy_prod'] - df['annual_PV_prod'] < 2*10**6]"
   ]
  }
 ],
 "metadata": {
  "kernelspec": {
   "display_name": "Python 2",
   "language": "python",
   "name": "python2"
  },
  "language_info": {
   "codemirror_mode": {
    "name": "ipython",
    "version": 2
   },
   "file_extension": ".py",
   "mimetype": "text/x-python",
   "name": "python",
   "nbconvert_exporter": "python",
   "pygments_lexer": "ipython2",
   "version": "2.7.12"
  }
 },
 "nbformat": 4,
 "nbformat_minor": 2
}
